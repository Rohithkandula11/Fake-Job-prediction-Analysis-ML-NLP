{
 "cells": [
  {
   "cell_type": "code",
   "execution_count": 1,
   "metadata": {},
   "outputs": [],
   "source": [
    "import pandas as pd\n",
    "import numpy as np\n",
    "import matplotlib.pyplot as plt\n",
    "import seaborn as sns\n",
    "from sklearn.preprocessing import LabelEncoder\n"
   ]
  },
  {
   "cell_type": "code",
   "execution_count": 2,
   "metadata": {},
   "outputs": [],
   "source": [
    "from sklearn.linear_model import LogisticRegression\n",
    "from sklearn.neighbors import KNeighborsClassifier\n",
    "from sklearn import metrics\n",
    "from sklearn.model_selection import train_test_split\n",
    "from sklearn.ensemble import RandomForestClassifier\n",
    "from sklearn.metrics import accuracy_score,classification_report,confusion_matrix,f1_score,precision_score"
   ]
  },
  {
   "cell_type": "code",
   "execution_count": 31,
   "metadata": {},
   "outputs": [],
   "source": [
    "from sklearn.ensemble import AdaBoostClassifier,GradientBoostingClassifier,StackingClassifier,VotingClassifier,BaggingClassifier\n",
    "from xgboost import XGBClassifier"
   ]
  },
  {
   "cell_type": "code",
   "execution_count": 27,
   "metadata": {},
   "outputs": [],
   "source": [
    "from imblearn import under_sampling, over_sampling\n",
    "from imblearn.over_sampling import SMOTE\n",
    "from collections import Counter"
   ]
  },
  {
   "cell_type": "code",
   "execution_count": 3,
   "metadata": {},
   "outputs": [
    {
     "data": {
      "text/html": [
       "<div>\n",
       "<style scoped>\n",
       "    .dataframe tbody tr th:only-of-type {\n",
       "        vertical-align: middle;\n",
       "    }\n",
       "\n",
       "    .dataframe tbody tr th {\n",
       "        vertical-align: top;\n",
       "    }\n",
       "\n",
       "    .dataframe thead th {\n",
       "        text-align: right;\n",
       "    }\n",
       "</style>\n",
       "<table border=\"1\" class=\"dataframe\">\n",
       "  <thead>\n",
       "    <tr style=\"text-align: right;\">\n",
       "      <th></th>\n",
       "      <th>job_id</th>\n",
       "      <th>title</th>\n",
       "      <th>location</th>\n",
       "      <th>department</th>\n",
       "      <th>salary_range</th>\n",
       "      <th>company_profile</th>\n",
       "      <th>description</th>\n",
       "      <th>requirements</th>\n",
       "      <th>benefits</th>\n",
       "      <th>telecommuting</th>\n",
       "      <th>has_company_logo</th>\n",
       "      <th>has_questions</th>\n",
       "      <th>employment_type</th>\n",
       "      <th>required_experience</th>\n",
       "      <th>required_education</th>\n",
       "      <th>industry</th>\n",
       "      <th>function</th>\n",
       "      <th>fraudulent</th>\n",
       "    </tr>\n",
       "  </thead>\n",
       "  <tbody>\n",
       "    <tr>\n",
       "      <th>0</th>\n",
       "      <td>1</td>\n",
       "      <td>Marketing Intern</td>\n",
       "      <td>US, NY, New York</td>\n",
       "      <td>Marketing</td>\n",
       "      <td>NaN</td>\n",
       "      <td>We're Food52, and we've created a groundbreaki...</td>\n",
       "      <td>Food52, a fast-growing, James Beard Award-winn...</td>\n",
       "      <td>Experience with content management systems a m...</td>\n",
       "      <td>NaN</td>\n",
       "      <td>0</td>\n",
       "      <td>1</td>\n",
       "      <td>0</td>\n",
       "      <td>Other</td>\n",
       "      <td>Internship</td>\n",
       "      <td>NaN</td>\n",
       "      <td>NaN</td>\n",
       "      <td>Marketing</td>\n",
       "      <td>0</td>\n",
       "    </tr>\n",
       "    <tr>\n",
       "      <th>1</th>\n",
       "      <td>2</td>\n",
       "      <td>Customer Service - Cloud Video Production</td>\n",
       "      <td>NZ, , Auckland</td>\n",
       "      <td>Success</td>\n",
       "      <td>NaN</td>\n",
       "      <td>90 Seconds, the worlds Cloud Video Production ...</td>\n",
       "      <td>Organised - Focused - Vibrant - Awesome!Do you...</td>\n",
       "      <td>What we expect from you:Your key responsibilit...</td>\n",
       "      <td>What you will get from usThrough being part of...</td>\n",
       "      <td>0</td>\n",
       "      <td>1</td>\n",
       "      <td>0</td>\n",
       "      <td>Full-time</td>\n",
       "      <td>Not Applicable</td>\n",
       "      <td>NaN</td>\n",
       "      <td>Marketing and Advertising</td>\n",
       "      <td>Customer Service</td>\n",
       "      <td>0</td>\n",
       "    </tr>\n",
       "  </tbody>\n",
       "</table>\n",
       "</div>"
      ],
      "text/plain": [
       "   job_id                                      title          location  \\\n",
       "0       1                           Marketing Intern  US, NY, New York   \n",
       "1       2  Customer Service - Cloud Video Production    NZ, , Auckland   \n",
       "\n",
       "  department salary_range                                    company_profile  \\\n",
       "0  Marketing          NaN  We're Food52, and we've created a groundbreaki...   \n",
       "1    Success          NaN  90 Seconds, the worlds Cloud Video Production ...   \n",
       "\n",
       "                                         description  \\\n",
       "0  Food52, a fast-growing, James Beard Award-winn...   \n",
       "1  Organised - Focused - Vibrant - Awesome!Do you...   \n",
       "\n",
       "                                        requirements  \\\n",
       "0  Experience with content management systems a m...   \n",
       "1  What we expect from you:Your key responsibilit...   \n",
       "\n",
       "                                            benefits  telecommuting  \\\n",
       "0                                                NaN              0   \n",
       "1  What you will get from usThrough being part of...              0   \n",
       "\n",
       "   has_company_logo  has_questions employment_type required_experience  \\\n",
       "0                 1              0           Other          Internship   \n",
       "1                 1              0       Full-time      Not Applicable   \n",
       "\n",
       "  required_education                   industry          function  fraudulent  \n",
       "0                NaN                        NaN         Marketing           0  \n",
       "1                NaN  Marketing and Advertising  Customer Service           0  "
      ]
     },
     "execution_count": 3,
     "metadata": {},
     "output_type": "execute_result"
    }
   ],
   "source": [
    "#reading the dataset and making job_id as index\n",
    "df=pd.read_csv('fake_job_postings.csv')\n",
    "df.head(2)"
   ]
  },
  {
   "cell_type": "markdown",
   "metadata": {},
   "source": [
    "# EDA"
   ]
  },
  {
   "cell_type": "code",
   "execution_count": 4,
   "metadata": {},
   "outputs": [
    {
     "data": {
      "text/plain": [
       "Index(['job_id', 'title', 'location', 'department', 'salary_range',\n",
       "       'company_profile', 'description', 'requirements', 'benefits',\n",
       "       'telecommuting', 'has_company_logo', 'has_questions', 'employment_type',\n",
       "       'required_experience', 'required_education', 'industry', 'function',\n",
       "       'fraudulent'],\n",
       "      dtype='object')"
      ]
     },
     "execution_count": 4,
     "metadata": {},
     "output_type": "execute_result"
    }
   ],
   "source": [
    "#Getting the column labels of the given Dataframe\n",
    "df.columns"
   ]
  },
  {
   "cell_type": "code",
   "execution_count": 5,
   "metadata": {},
   "outputs": [
    {
     "name": "stdout",
     "output_type": "stream",
     "text": [
      "<class 'pandas.core.frame.DataFrame'>\n",
      "RangeIndex: 17880 entries, 0 to 17879\n",
      "Data columns (total 18 columns):\n",
      " #   Column               Non-Null Count  Dtype \n",
      "---  ------               --------------  ----- \n",
      " 0   job_id               17880 non-null  int64 \n",
      " 1   title                17880 non-null  object\n",
      " 2   location             17534 non-null  object\n",
      " 3   department           6333 non-null   object\n",
      " 4   salary_range         2868 non-null   object\n",
      " 5   company_profile      14572 non-null  object\n",
      " 6   description          17879 non-null  object\n",
      " 7   requirements         15185 non-null  object\n",
      " 8   benefits             10670 non-null  object\n",
      " 9   telecommuting        17880 non-null  int64 \n",
      " 10  has_company_logo     17880 non-null  int64 \n",
      " 11  has_questions        17880 non-null  int64 \n",
      " 12  employment_type      14409 non-null  object\n",
      " 13  required_experience  10830 non-null  object\n",
      " 14  required_education   9775 non-null   object\n",
      " 15  industry             12977 non-null  object\n",
      " 16  function             11425 non-null  object\n",
      " 17  fraudulent           17880 non-null  int64 \n",
      "dtypes: int64(5), object(13)\n",
      "memory usage: 2.5+ MB\n"
     ]
    }
   ],
   "source": [
    "#checking the information\n",
    "df.info()"
   ]
  },
  {
   "cell_type": "code",
   "execution_count": 6,
   "metadata": {},
   "outputs": [
    {
     "data": {
      "text/plain": [
       "job_id                  0.000000\n",
       "title                   0.000000\n",
       "location                1.935123\n",
       "department             64.580537\n",
       "salary_range           83.959732\n",
       "company_profile        18.501119\n",
       "description             0.005593\n",
       "requirements           15.072707\n",
       "benefits               40.324385\n",
       "telecommuting           0.000000\n",
       "has_company_logo        0.000000\n",
       "has_questions           0.000000\n",
       "employment_type        19.412752\n",
       "required_experience    39.429530\n",
       "required_education     45.329978\n",
       "industry               27.421700\n",
       "function               36.101790\n",
       "fraudulent              0.000000\n",
       "dtype: float64"
      ]
     },
     "execution_count": 6,
     "metadata": {},
     "output_type": "execute_result"
    }
   ],
   "source": [
    "#Percentage of null value\n",
    "(df.isna().sum()/len(df))*100"
   ]
  },
  {
   "cell_type": "code",
   "execution_count": 7,
   "metadata": {},
   "outputs": [
    {
     "data": {
      "text/plain": [
       "(17880, 18)"
      ]
     },
     "execution_count": 7,
     "metadata": {},
     "output_type": "execute_result"
    }
   ],
   "source": [
    "#Getting information about the number of rows and columns\n",
    "df.shape"
   ]
  },
  {
   "cell_type": "markdown",
   "metadata": {},
   "source": [
    "# Dropping the inappropriate features from the data"
   ]
  },
  {
   "cell_type": "code",
   "execution_count": 8,
   "metadata": {},
   "outputs": [],
   "source": [
    "#Dropping the column \"salary_range\" because it has more than 80% null values\n",
    "#Dropping \"department\" column because it has 64% null values\n",
    "df.drop(['salary_range','department',\"job_id\"],axis=1,inplace=True)"
   ]
  },
  {
   "cell_type": "markdown",
   "metadata": {},
   "source": [
    "# Filling the null values present in the categorical features by its mode value."
   ]
  },
  {
   "cell_type": "code",
   "execution_count": 9,
   "metadata": {},
   "outputs": [],
   "source": [
    "df['function'].fillna(df[\"function\"].mode()[0],inplace=True)\n",
    "df['industry'].fillna(df['industry'].mode()[0],inplace=True)\n",
    "df['employment_type'].fillna(df['employment_type'].mode()[0],inplace=True)"
   ]
  },
  {
   "cell_type": "markdown",
   "metadata": {},
   "source": [
    "# Filling the null values by its appropriate entry because filling it with mode values will leads to wrong intrepretation of the data"
   ]
  },
  {
   "cell_type": "code",
   "execution_count": 10,
   "metadata": {},
   "outputs": [],
   "source": [
    "df['required_education'].fillna('Unspecified',inplace=True)\n",
    "df['required_experience'].fillna('Not Applicable',inplace=True)"
   ]
  },
  {
   "cell_type": "markdown",
   "metadata": {},
   "source": [
    "# Filling the null values in Text Columns"
   ]
  },
  {
   "cell_type": "code",
   "execution_count": 11,
   "metadata": {},
   "outputs": [],
   "source": [
    "df['company_profile'].fillna('',inplace=True)\n",
    "df['description'].fillna('',inplace=True)\n",
    "df['requirements'].fillna('',inplace=True)\n",
    "df['benefits'].fillna('',inplace=True)"
   ]
  },
  {
   "cell_type": "markdown",
   "metadata": {},
   "source": [
    "# Spliting the location coloumn to extract name of the city"
   ]
  },
  {
   "cell_type": "code",
   "execution_count": 12,
   "metadata": {},
   "outputs": [
    {
     "data": {
      "text/plain": [
       "440"
      ]
     },
     "execution_count": 12,
     "metadata": {},
     "output_type": "execute_result"
    }
   ],
   "source": [
    "df[\"City\"] = df[\"location\"].str.split(\",\").str.get(2)\n",
    "df['City'].isnull().sum()"
   ]
  },
  {
   "cell_type": "code",
   "execution_count": 13,
   "metadata": {},
   "outputs": [
    {
     "data": {
      "text/plain": [
       "                              1627\n",
       " London                       1060\n",
       " New York                      669\n",
       " Athens                        543\n",
       " San Francisco                 478\n",
       "                              ... \n",
       " Palmdale                        1\n",
       " Garden Grove                    1\n",
       " New York or San Francisco       1\n",
       " Hatfield                        1\n",
       " Paducah                         1\n",
       "Name: City, Length: 2335, dtype: int64"
      ]
     },
     "execution_count": 13,
     "metadata": {},
     "output_type": "execute_result"
    }
   ],
   "source": [
    "df['City'].value_counts()"
   ]
  },
  {
   "cell_type": "code",
   "execution_count": 14,
   "metadata": {},
   "outputs": [],
   "source": [
    "df.City.replace(to_replace=' ',value=' London',inplace=True)"
   ]
  },
  {
   "cell_type": "code",
   "execution_count": 15,
   "metadata": {},
   "outputs": [
    {
     "data": {
      "text/plain": [
       "440"
      ]
     },
     "execution_count": 15,
     "metadata": {},
     "output_type": "execute_result"
    }
   ],
   "source": [
    "df['City'].isnull().sum()"
   ]
  },
  {
   "cell_type": "code",
   "execution_count": 16,
   "metadata": {},
   "outputs": [],
   "source": [
    "df['City'].fillna(df['City'].mode()[0],inplace=True)"
   ]
  },
  {
   "cell_type": "code",
   "execution_count": 17,
   "metadata": {},
   "outputs": [
    {
     "data": {
      "text/plain": [
       " London                       3127\n",
       " New York                      669\n",
       " Athens                        543\n",
       " San Francisco                 478\n",
       " Houston                       271\n",
       "                              ... \n",
       " Niles Buchanan                  1\n",
       " Cicero                          1\n",
       " Palmdale                        1\n",
       " New York or San Francisco       1\n",
       " INDIANAPOLIS                    1\n",
       "Name: City, Length: 2334, dtype: int64"
      ]
     },
     "execution_count": 17,
     "metadata": {},
     "output_type": "execute_result"
    }
   ],
   "source": [
    "df['City'].value_counts()"
   ]
  },
  {
   "cell_type": "code",
   "execution_count": 18,
   "metadata": {},
   "outputs": [],
   "source": [
    "df.drop('location',axis=1,inplace=True)"
   ]
  },
  {
   "cell_type": "code",
   "execution_count": 19,
   "metadata": {},
   "outputs": [
    {
     "data": {
      "text/plain": [
       "title                  0\n",
       "company_profile        0\n",
       "description            0\n",
       "requirements           0\n",
       "benefits               0\n",
       "telecommuting          0\n",
       "has_company_logo       0\n",
       "has_questions          0\n",
       "employment_type        0\n",
       "required_experience    0\n",
       "required_education     0\n",
       "industry               0\n",
       "function               0\n",
       "fraudulent             0\n",
       "City                   0\n",
       "dtype: int64"
      ]
     },
     "execution_count": 19,
     "metadata": {},
     "output_type": "execute_result"
    }
   ],
   "source": [
    "df.isnull().sum()"
   ]
  },
  {
   "cell_type": "code",
   "execution_count": 20,
   "metadata": {},
   "outputs": [
    {
     "data": {
      "text/html": [
       "<div>\n",
       "<style scoped>\n",
       "    .dataframe tbody tr th:only-of-type {\n",
       "        vertical-align: middle;\n",
       "    }\n",
       "\n",
       "    .dataframe tbody tr th {\n",
       "        vertical-align: top;\n",
       "    }\n",
       "\n",
       "    .dataframe thead th {\n",
       "        text-align: right;\n",
       "    }\n",
       "</style>\n",
       "<table border=\"1\" class=\"dataframe\">\n",
       "  <thead>\n",
       "    <tr style=\"text-align: right;\">\n",
       "      <th></th>\n",
       "      <th>title</th>\n",
       "      <th>company_profile</th>\n",
       "      <th>description</th>\n",
       "      <th>requirements</th>\n",
       "      <th>benefits</th>\n",
       "      <th>telecommuting</th>\n",
       "      <th>has_company_logo</th>\n",
       "      <th>has_questions</th>\n",
       "      <th>employment_type</th>\n",
       "      <th>required_experience</th>\n",
       "      <th>required_education</th>\n",
       "      <th>industry</th>\n",
       "      <th>function</th>\n",
       "      <th>fraudulent</th>\n",
       "      <th>City</th>\n",
       "    </tr>\n",
       "  </thead>\n",
       "  <tbody>\n",
       "    <tr>\n",
       "      <th>0</th>\n",
       "      <td>Marketing Intern</td>\n",
       "      <td>We're Food52, and we've created a groundbreaki...</td>\n",
       "      <td>Food52, a fast-growing, James Beard Award-winn...</td>\n",
       "      <td>Experience with content management systems a m...</td>\n",
       "      <td></td>\n",
       "      <td>0</td>\n",
       "      <td>1</td>\n",
       "      <td>0</td>\n",
       "      <td>Other</td>\n",
       "      <td>Internship</td>\n",
       "      <td>Unspecified</td>\n",
       "      <td>Information Technology and Services</td>\n",
       "      <td>Marketing</td>\n",
       "      <td>0</td>\n",
       "      <td>New York</td>\n",
       "    </tr>\n",
       "    <tr>\n",
       "      <th>1</th>\n",
       "      <td>Customer Service - Cloud Video Production</td>\n",
       "      <td>90 Seconds, the worlds Cloud Video Production ...</td>\n",
       "      <td>Organised - Focused - Vibrant - Awesome!Do you...</td>\n",
       "      <td>What we expect from you:Your key responsibilit...</td>\n",
       "      <td>What you will get from usThrough being part of...</td>\n",
       "      <td>0</td>\n",
       "      <td>1</td>\n",
       "      <td>0</td>\n",
       "      <td>Full-time</td>\n",
       "      <td>Not Applicable</td>\n",
       "      <td>Unspecified</td>\n",
       "      <td>Marketing and Advertising</td>\n",
       "      <td>Customer Service</td>\n",
       "      <td>0</td>\n",
       "      <td>Auckland</td>\n",
       "    </tr>\n",
       "  </tbody>\n",
       "</table>\n",
       "</div>"
      ],
      "text/plain": [
       "                                       title  \\\n",
       "0                           Marketing Intern   \n",
       "1  Customer Service - Cloud Video Production   \n",
       "\n",
       "                                     company_profile  \\\n",
       "0  We're Food52, and we've created a groundbreaki...   \n",
       "1  90 Seconds, the worlds Cloud Video Production ...   \n",
       "\n",
       "                                         description  \\\n",
       "0  Food52, a fast-growing, James Beard Award-winn...   \n",
       "1  Organised - Focused - Vibrant - Awesome!Do you...   \n",
       "\n",
       "                                        requirements  \\\n",
       "0  Experience with content management systems a m...   \n",
       "1  What we expect from you:Your key responsibilit...   \n",
       "\n",
       "                                            benefits  telecommuting  \\\n",
       "0                                                                 0   \n",
       "1  What you will get from usThrough being part of...              0   \n",
       "\n",
       "   has_company_logo  has_questions employment_type required_experience  \\\n",
       "0                 1              0           Other          Internship   \n",
       "1                 1              0       Full-time      Not Applicable   \n",
       "\n",
       "  required_education                             industry          function  \\\n",
       "0        Unspecified  Information Technology and Services         Marketing   \n",
       "1        Unspecified            Marketing and Advertising  Customer Service   \n",
       "\n",
       "   fraudulent       City  \n",
       "0           0   New York  \n",
       "1           0   Auckland  "
      ]
     },
     "execution_count": 20,
     "metadata": {},
     "output_type": "execute_result"
    }
   ],
   "source": [
    "df.head(2)"
   ]
  },
  {
   "cell_type": "code",
   "execution_count": null,
   "metadata": {},
   "outputs": [],
   "source": []
  },
  {
   "cell_type": "markdown",
   "metadata": {},
   "source": [
    "# NLP FOR TEXT COLUMNS\n",
    "##### text cols include: title, company profile, description, requirements, benefits"
   ]
  },
  {
   "cell_type": "code",
   "execution_count": 21,
   "metadata": {},
   "outputs": [
    {
     "data": {
      "text/plain": [
       "Index(['title', 'company_profile', 'description', 'requirements', 'benefits',\n",
       "       'telecommuting', 'has_company_logo', 'has_questions', 'employment_type',\n",
       "       'required_experience', 'required_education', 'industry', 'function',\n",
       "       'fraudulent', 'City'],\n",
       "      dtype='object')"
      ]
     },
     "execution_count": 21,
     "metadata": {},
     "output_type": "execute_result"
    }
   ],
   "source": [
    "df.columns"
   ]
  },
  {
   "cell_type": "code",
   "execution_count": 22,
   "metadata": {},
   "outputs": [
    {
     "name": "stdout",
     "output_type": "stream",
     "text": [
      "<class 'pandas.core.frame.DataFrame'>\n",
      "RangeIndex: 17880 entries, 0 to 17879\n",
      "Data columns (total 2 columns):\n",
      " #   Column      Non-Null Count  Dtype \n",
      "---  ------      --------------  ----- \n",
      " 0   fraudulent  17880 non-null  int64 \n",
      " 1   text col    17880 non-null  object\n",
      "dtypes: int64(1), object(1)\n",
      "memory usage: 279.5+ KB\n"
     ]
    }
   ],
   "source": [
    "df['text col'] = df['title']+' '+df['company_profile']+' '+df['description']+' '+df['requirements']+\" \"+df['benefits']\n",
    "df_txt = df.iloc[:,[13,15]]\n",
    "df_txt.info()"
   ]
  },
  {
   "cell_type": "markdown",
   "metadata": {},
   "source": [
    "# calling a single func"
   ]
  },
  {
   "cell_type": "code",
   "execution_count": 21,
   "metadata": {},
   "outputs": [],
   "source": [
    "import re\n",
    "import nltk\n",
    "from nltk.stem import WordNetLemmatizer\n",
    "from nltk.corpus import wordnet\n",
    "lem = WordNetLemmatizer()\n",
    "stopwords=nltk.corpus.stopwords.words('english')"
   ]
  },
  {
   "cell_type": "code",
   "execution_count": 24,
   "metadata": {},
   "outputs": [],
   "source": [
    "def clean_wosw(txt):\n",
    "    \n",
    "    txt=re.sub(r'[^\\w\\s]', '', txt.lower())\n",
    "    num=re.sub(r'\\W\\d+','',txt)\n",
    "    tkn=re.split('\\W+',num)\n",
    "    txt=[lem.lemmatize(word,pos='v') for word in tkn if word not in stopwords]\n",
    "    return txt"
   ]
  },
  {
   "cell_type": "code",
   "execution_count": 25,
   "metadata": {},
   "outputs": [
    {
     "name": "stderr",
     "output_type": "stream",
     "text": [
      "C:\\Users\\YashwanthRaj\\anaconda3\\lib\\site-packages\\ipykernel_launcher.py:1: SettingWithCopyWarning: \n",
      "A value is trying to be set on a copy of a slice from a DataFrame.\n",
      "Try using .loc[row_indexer,col_indexer] = value instead\n",
      "\n",
      "See the caveats in the documentation: https://pandas.pydata.org/pandas-docs/stable/user_guide/indexing.html#returning-a-view-versus-a-copy\n",
      "  \"\"\"Entry point for launching an IPython kernel.\n"
     ]
    }
   ],
   "source": [
    "df_txt['text col'] = df_txt['text col'].apply(lambda x: clean_wosw(x))"
   ]
  },
  {
   "cell_type": "code",
   "execution_count": 26,
   "metadata": {},
   "outputs": [
    {
     "data": {
      "text/html": [
       "<div>\n",
       "<style scoped>\n",
       "    .dataframe tbody tr th:only-of-type {\n",
       "        vertical-align: middle;\n",
       "    }\n",
       "\n",
       "    .dataframe tbody tr th {\n",
       "        vertical-align: top;\n",
       "    }\n",
       "\n",
       "    .dataframe thead th {\n",
       "        text-align: right;\n",
       "    }\n",
       "</style>\n",
       "<table border=\"1\" class=\"dataframe\">\n",
       "  <thead>\n",
       "    <tr style=\"text-align: right;\">\n",
       "      <th></th>\n",
       "      <th>fraudulent</th>\n",
       "      <th>text col</th>\n",
       "    </tr>\n",
       "  </thead>\n",
       "  <tbody>\n",
       "    <tr>\n",
       "      <th>0</th>\n",
       "      <td>0</td>\n",
       "      <td>[market, intern, food52, weve, create, groundb...</td>\n",
       "    </tr>\n",
       "    <tr>\n",
       "      <th>1</th>\n",
       "      <td>0</td>\n",
       "      <td>[customer, service, cloud, video, production, ...</td>\n",
       "    </tr>\n",
       "    <tr>\n",
       "      <th>2</th>\n",
       "      <td>0</td>\n",
       "      <td>[commission, machinery, assistant, cma, valor,...</td>\n",
       "    </tr>\n",
       "    <tr>\n",
       "      <th>3</th>\n",
       "      <td>0</td>\n",
       "      <td>[account, executive, washington, dc, passion, ...</td>\n",
       "    </tr>\n",
       "    <tr>\n",
       "      <th>4</th>\n",
       "      <td>0</td>\n",
       "      <td>[bill, review, manager, spotsource, solutions,...</td>\n",
       "    </tr>\n",
       "  </tbody>\n",
       "</table>\n",
       "</div>"
      ],
      "text/plain": [
       "   fraudulent                                           text col\n",
       "0           0  [market, intern, food52, weve, create, groundb...\n",
       "1           0  [customer, service, cloud, video, production, ...\n",
       "2           0  [commission, machinery, assistant, cma, valor,...\n",
       "3           0  [account, executive, washington, dc, passion, ...\n",
       "4           0  [bill, review, manager, spotsource, solutions,..."
      ]
     },
     "execution_count": 26,
     "metadata": {},
     "output_type": "execute_result"
    }
   ],
   "source": [
    "df_txt.head()"
   ]
  },
  {
   "cell_type": "markdown",
   "metadata": {},
   "source": [
    "# WordCloud for text coluumns"
   ]
  },
  {
   "cell_type": "code",
   "execution_count": 27,
   "metadata": {},
   "outputs": [],
   "source": [
    "#Appart from stopwords we are also removing single letter words"
   ]
  },
  {
   "cell_type": "code",
   "execution_count": 28,
   "metadata": {},
   "outputs": [],
   "source": [
    "words=[]\n",
    "for i in df_txt['text col']:\n",
    "    for j in i:\n",
    "        if len(j)>1:\n",
    "            words.append(j)\n",
    "\n",
    "b=' '.join(map(str, words))"
   ]
  },
  {
   "cell_type": "code",
   "execution_count": 29,
   "metadata": {},
   "outputs": [
    {
     "data": {
      "image/png": "[encoded data removed]",
      "text/plain": [
       "<Figure size 1080x576 with 1 Axes>"
      ]
     },
     "metadata": {
      "needs_background": "light"
     },
     "output_type": "display_data"
    }
   ],
   "source": [
    "from wordcloud import WordCloud\n",
    "wordcloud = WordCloud(width=800, height=500, random_state=42, max_font_size=100,background_color='lavender').generate(b)\n",
    "\n",
    "# plot the graph\n",
    "plt.figure(figsize=(15,8))\n",
    "plt.imshow(wordcloud,interpolation='bilinear')\n",
    "plt.axis('off')\n",
    "plt.title('TEXT COLOUMNs WORD CLOUD',fontdict={'fontsize': 50,\n",
    "        'fontweight':75,\n",
    "        'color':'black'})\n",
    "plt.show()\n"
   ]
  },
  {
   "cell_type": "markdown",
   "metadata": {},
   "source": [
    "# Top 20 Words from WordCloud"
   ]
  },
  {
   "cell_type": "code",
   "execution_count": 30,
   "metadata": {},
   "outputs": [
    {
     "name": "stdout",
     "output_type": "stream",
     "text": [
      "[('customer service', 5916), ('years experience', 4072), ('communication skill', 3507), ('social media', 2968), ('full time', 2341), ('team member', 2012), ('work closely', 1895), ('work environment', 1836), ('ideal candidate', 1727), ('business process', 1664), ('high quality', 1608), ('around world', 1545), ('new york', 1544), ('ability work', 1544), ('project', 1471), ('best practice', 1469), ('join team', 1418), ('experience work', 1414), ('system', 1397), ('software development', 1366)]\n"
     ]
    }
   ],
   "source": [
    "text_dictionary = wordcloud.process_text(b)\n",
    "word_freq={k: v for k, v in sorted(text_dictionary.items(),reverse=True, key=lambda item: item[1])}\n",
    "#rel_freq=wordcloud.words_\n",
    "print(list(word_freq.items())[:20])"
   ]
  },
  {
   "cell_type": "code",
   "execution_count": 31,
   "metadata": {},
   "outputs": [],
   "source": [
    "first_n_pairs = list(word_freq.items())[:20]"
   ]
  },
  {
   "cell_type": "code",
   "execution_count": 32,
   "metadata": {},
   "outputs": [
    {
     "data": {
      "text/plain": [
       "<BarContainer object of 20 artists>"
      ]
     },
     "execution_count": 32,
     "metadata": {},
     "output_type": "execute_result"
    },
    {
     "data": {
      "image/png": "[encoded data removed]",
      "text/plain": [
       "<Figure size 1008x360 with 1 Axes>"
      ]
     },
     "metadata": {
      "needs_background": "light"
     },
     "output_type": "display_data"
    }
   ],
   "source": [
    "plt.figure(figsize=(14,5))\n",
    "plt.xticks(rotation=90)\n",
    "names, counts = zip(*dict(first_n_pairs).items())\n",
    "plt.bar(names, counts,edgecolor='black')"
   ]
  },
  {
   "cell_type": "markdown",
   "metadata": {},
   "source": [
    "# TFIDF"
   ]
  },
  {
   "cell_type": "code",
   "execution_count": 22,
   "metadata": {},
   "outputs": [],
   "source": [
    "df['text col'] = df['title']+' '+df['company_profile']+' '+df['description']+' '+df['requirements']+\" \"+df['benefits']\n",
    "df_txt1 = df.iloc[:,[13,15]]"
   ]
  },
  {
   "cell_type": "code",
   "execution_count": 23,
   "metadata": {},
   "outputs": [
    {
     "name": "stderr",
     "output_type": "stream",
     "text": [
      "C:\\Users\\YashwanthRaj\\anaconda3\\lib\\site-packages\\ipykernel_launcher.py:9: SettingWithCopyWarning: \n",
      "A value is trying to be set on a copy of a slice from a DataFrame.\n",
      "Try using .loc[row_indexer,col_indexer] = value instead\n",
      "\n",
      "See the caveats in the documentation: https://pandas.pydata.org/pandas-docs/stable/user_guide/indexing.html#returning-a-view-versus-a-copy\n",
      "  if __name__ == '__main__':\n"
     ]
    }
   ],
   "source": [
    "def clean_wosw(txt):\n",
    "    \n",
    "    txt=re.sub(r'[^\\w\\s]', '', txt.lower())\n",
    "    num=re.sub(r'\\W\\d+','',txt)\n",
    "    tkn=re.split('\\W+',num)\n",
    "    txt=str([lem.lemmatize(word,pos='v') for word in tkn if word not in stopwords])\n",
    "    return txt\n",
    "\n",
    "df_txt1['text col'] = df_txt1['text col'].apply(lambda x: clean_wosw(x))"
   ]
  },
  {
   "cell_type": "code",
   "execution_count": 24,
   "metadata": {},
   "outputs": [],
   "source": [
    "from sklearn.feature_extraction.text import TfidfVectorizer\n",
    "tfidf2=TfidfVectorizer(max_features = 1000)\n",
    "\n",
    "X=tfidf2.fit_transform(df_txt1['text col'])\n",
    "\n",
    "tfidf=pd.DataFrame(X.toarray(),columns=tfidf2.get_feature_names())\n"
   ]
  },
  {
   "cell_type": "code",
   "execution_count": 25,
   "metadata": {},
   "outputs": [
    {
     "data": {
      "text/html": [
       "<div>\n",
       "<style scoped>\n",
       "    .dataframe tbody tr th:only-of-type {\n",
       "        vertical-align: middle;\n",
       "    }\n",
       "\n",
       "    .dataframe tbody tr th {\n",
       "        vertical-align: top;\n",
       "    }\n",
       "\n",
       "    .dataframe thead th {\n",
       "        text-align: right;\n",
       "    }\n",
       "</style>\n",
       "<table border=\"1\" class=\"dataframe\">\n",
       "  <thead>\n",
       "    <tr style=\"text-align: right;\">\n",
       "      <th></th>\n",
       "      <th>ability</th>\n",
       "      <th>able</th>\n",
       "      <th>abroad</th>\n",
       "      <th>access</th>\n",
       "      <th>account</th>\n",
       "      <th>accurate</th>\n",
       "      <th>achieve</th>\n",
       "      <th>acquisition</th>\n",
       "      <th>across</th>\n",
       "      <th>act</th>\n",
       "      <th>...</th>\n",
       "      <th>worldwide</th>\n",
       "      <th>would</th>\n",
       "      <th>write</th>\n",
       "      <th>year</th>\n",
       "      <th>years</th>\n",
       "      <th>york</th>\n",
       "      <th>youll</th>\n",
       "      <th>young</th>\n",
       "      <th>youre</th>\n",
       "      <th>και</th>\n",
       "    </tr>\n",
       "  </thead>\n",
       "  <tbody>\n",
       "    <tr>\n",
       "      <th>0</th>\n",
       "      <td>0.00000</td>\n",
       "      <td>0.000000</td>\n",
       "      <td>0.0</td>\n",
       "      <td>0.0</td>\n",
       "      <td>0.000000</td>\n",
       "      <td>0.0</td>\n",
       "      <td>0.000000</td>\n",
       "      <td>0.000000</td>\n",
       "      <td>0.000000</td>\n",
       "      <td>0.0</td>\n",
       "      <td>...</td>\n",
       "      <td>0.0000</td>\n",
       "      <td>0.000000</td>\n",
       "      <td>0.000000</td>\n",
       "      <td>0.00000</td>\n",
       "      <td>0.000000</td>\n",
       "      <td>0.240285</td>\n",
       "      <td>0.0</td>\n",
       "      <td>0.0</td>\n",
       "      <td>0.0</td>\n",
       "      <td>0.0</td>\n",
       "    </tr>\n",
       "    <tr>\n",
       "      <th>1</th>\n",
       "      <td>0.00000</td>\n",
       "      <td>0.016216</td>\n",
       "      <td>0.0</td>\n",
       "      <td>0.0</td>\n",
       "      <td>0.019711</td>\n",
       "      <td>0.0</td>\n",
       "      <td>0.021115</td>\n",
       "      <td>0.000000</td>\n",
       "      <td>0.000000</td>\n",
       "      <td>0.0</td>\n",
       "      <td>...</td>\n",
       "      <td>0.0000</td>\n",
       "      <td>0.020589</td>\n",
       "      <td>0.000000</td>\n",
       "      <td>0.00000</td>\n",
       "      <td>0.000000</td>\n",
       "      <td>0.000000</td>\n",
       "      <td>0.0</td>\n",
       "      <td>0.0</td>\n",
       "      <td>0.0</td>\n",
       "      <td>0.0</td>\n",
       "    </tr>\n",
       "    <tr>\n",
       "      <th>2</th>\n",
       "      <td>0.00000</td>\n",
       "      <td>0.000000</td>\n",
       "      <td>0.0</td>\n",
       "      <td>0.0</td>\n",
       "      <td>0.000000</td>\n",
       "      <td>0.0</td>\n",
       "      <td>0.000000</td>\n",
       "      <td>0.000000</td>\n",
       "      <td>0.048337</td>\n",
       "      <td>0.0</td>\n",
       "      <td>...</td>\n",
       "      <td>0.0000</td>\n",
       "      <td>0.000000</td>\n",
       "      <td>0.000000</td>\n",
       "      <td>0.00000</td>\n",
       "      <td>0.000000</td>\n",
       "      <td>0.000000</td>\n",
       "      <td>0.0</td>\n",
       "      <td>0.0</td>\n",
       "      <td>0.0</td>\n",
       "      <td>0.0</td>\n",
       "    </tr>\n",
       "    <tr>\n",
       "      <th>3</th>\n",
       "      <td>0.02563</td>\n",
       "      <td>0.000000</td>\n",
       "      <td>0.0</td>\n",
       "      <td>0.0</td>\n",
       "      <td>0.388216</td>\n",
       "      <td>0.0</td>\n",
       "      <td>0.037805</td>\n",
       "      <td>0.053575</td>\n",
       "      <td>0.000000</td>\n",
       "      <td>0.0</td>\n",
       "      <td>...</td>\n",
       "      <td>0.0974</td>\n",
       "      <td>0.000000</td>\n",
       "      <td>0.051494</td>\n",
       "      <td>0.03396</td>\n",
       "      <td>0.020687</td>\n",
       "      <td>0.000000</td>\n",
       "      <td>0.0</td>\n",
       "      <td>0.0</td>\n",
       "      <td>0.0</td>\n",
       "      <td>0.0</td>\n",
       "    </tr>\n",
       "    <tr>\n",
       "      <th>4</th>\n",
       "      <td>0.00000</td>\n",
       "      <td>0.036697</td>\n",
       "      <td>0.0</td>\n",
       "      <td>0.0</td>\n",
       "      <td>0.000000</td>\n",
       "      <td>0.0</td>\n",
       "      <td>0.000000</td>\n",
       "      <td>0.067715</td>\n",
       "      <td>0.039879</td>\n",
       "      <td>0.0</td>\n",
       "      <td>...</td>\n",
       "      <td>0.0000</td>\n",
       "      <td>0.000000</td>\n",
       "      <td>0.000000</td>\n",
       "      <td>0.00000</td>\n",
       "      <td>0.026146</td>\n",
       "      <td>0.000000</td>\n",
       "      <td>0.0</td>\n",
       "      <td>0.0</td>\n",
       "      <td>0.0</td>\n",
       "      <td>0.0</td>\n",
       "    </tr>\n",
       "  </tbody>\n",
       "</table>\n",
       "<p>5 rows × 1000 columns</p>\n",
       "</div>"
      ],
      "text/plain": [
       "   ability      able  abroad  access   account  accurate   achieve  \\\n",
       "0  0.00000  0.000000     0.0     0.0  0.000000       0.0  0.000000   \n",
       "1  0.00000  0.016216     0.0     0.0  0.019711       0.0  0.021115   \n",
       "2  0.00000  0.000000     0.0     0.0  0.000000       0.0  0.000000   \n",
       "3  0.02563  0.000000     0.0     0.0  0.388216       0.0  0.037805   \n",
       "4  0.00000  0.036697     0.0     0.0  0.000000       0.0  0.000000   \n",
       "\n",
       "   acquisition    across  act  ...  worldwide     would     write     year  \\\n",
       "0     0.000000  0.000000  0.0  ...     0.0000  0.000000  0.000000  0.00000   \n",
       "1     0.000000  0.000000  0.0  ...     0.0000  0.020589  0.000000  0.00000   \n",
       "2     0.000000  0.048337  0.0  ...     0.0000  0.000000  0.000000  0.00000   \n",
       "3     0.053575  0.000000  0.0  ...     0.0974  0.000000  0.051494  0.03396   \n",
       "4     0.067715  0.039879  0.0  ...     0.0000  0.000000  0.000000  0.00000   \n",
       "\n",
       "      years      york  youll  young  youre  και  \n",
       "0  0.000000  0.240285    0.0    0.0    0.0  0.0  \n",
       "1  0.000000  0.000000    0.0    0.0    0.0  0.0  \n",
       "2  0.000000  0.000000    0.0    0.0    0.0  0.0  \n",
       "3  0.020687  0.000000    0.0    0.0    0.0  0.0  \n",
       "4  0.026146  0.000000    0.0    0.0    0.0  0.0  \n",
       "\n",
       "[5 rows x 1000 columns]"
      ]
     },
     "execution_count": 25,
     "metadata": {},
     "output_type": "execute_result"
    }
   ],
   "source": [
    "tfidf.head()"
   ]
  },
  {
   "cell_type": "markdown",
   "metadata": {},
   "source": [
    "# Model Buliding"
   ]
  },
  {
   "cell_type": "code",
   "execution_count": 37,
   "metadata": {},
   "outputs": [],
   "source": [
    "score_card = pd.DataFrame(columns=['Model','Precision Score', 'Recall Score',\n",
    "                                       'Accuracy Score', 'f1-score'])\n",
    "def update_score_card_text(model,Name):\n",
    "    y_pred=model.predict(X_test)\n",
    "    global score_card\n",
    "    \n",
    "    score_card = score_card.append({'Model':Name,\n",
    "                                    'Precision Score': metrics.precision_score(y_test, y_pred),\n",
    "                                    'Recall Score': metrics.recall_score(y_test,y_pred),\n",
    "                                    'Accuracy Score': metrics.accuracy_score(y_test, y_pred),\n",
    "                                    'f1-score': metrics.f1_score(y_test, y_pred)}, \n",
    "                                    ignore_index = True)"
   ]
  },
  {
   "cell_type": "markdown",
   "metadata": {},
   "source": [
    "### Random forest for text columns"
   ]
  },
  {
   "cell_type": "code",
   "execution_count": 28,
   "metadata": {},
   "outputs": [],
   "source": [
    "df_targ = df['fraudulent']\n",
    "final = pd.concat([tfidf,df_targ],axis=1)"
   ]
  },
  {
   "cell_type": "code",
   "execution_count": 39,
   "metadata": {},
   "outputs": [
    {
     "name": "stdout",
     "output_type": "stream",
     "text": [
      "0.9737136465324385\n",
      "[[5093    0]\n",
      " [ 141  130]]\n",
      "              precision    recall  f1-score   support\n",
      "\n",
      "           0       0.97      1.00      0.99      5093\n",
      "           1       1.00      0.48      0.65       271\n",
      "\n",
      "    accuracy                           0.97      5364\n",
      "   macro avg       0.99      0.74      0.82      5364\n",
      "weighted avg       0.97      0.97      0.97      5364\n",
      "\n"
     ]
    }
   ],
   "source": [
    "X = final.iloc[:,:-1]\n",
    "y = final['fraudulent']\n",
    "X_train, X_test, y_train, y_test = train_test_split(X, y, test_size=0.3, random_state=42)\n",
    "rfc = RandomForestClassifier(n_jobs=3,oob_score=True,n_estimators=100,criterion='entropy')\n",
    "rfc_model = rfc.fit(X_train,y_train)\n",
    "y_pred = rfc_model.predict(X_test)\n",
    "print(accuracy_score(y_test,y_pred))\n",
    "print(confusion_matrix(y_test,y_pred))\n",
    "print(classification_report(y_test,y_pred))"
   ]
  },
  {
   "cell_type": "code",
   "execution_count": null,
   "metadata": {},
   "outputs": [],
   "source": []
  },
  {
   "cell_type": "markdown",
   "metadata": {},
   "source": [
    "### KNN for text columns"
   ]
  },
  {
   "cell_type": "code",
   "execution_count": 40,
   "metadata": {},
   "outputs": [
    {
     "name": "stdout",
     "output_type": "stream",
     "text": [
      "0.9783743475018642\n",
      "[[5065   28]\n",
      " [  88  183]]\n",
      "              precision    recall  f1-score   support\n",
      "\n",
      "           0       0.98      0.99      0.99      5093\n",
      "           1       0.87      0.68      0.76       271\n",
      "\n",
      "    accuracy                           0.98      5364\n",
      "   macro avg       0.93      0.83      0.87      5364\n",
      "weighted avg       0.98      0.98      0.98      5364\n",
      "\n"
     ]
    }
   ],
   "source": [
    "X = final.iloc[:,:-1]\n",
    "y = final['fraudulent']\n",
    "X_train, X_test, y_train, y_test = train_test_split(X, y, test_size=0.3, random_state=42)\n",
    "knn = KNeighborsClassifier(n_neighbors=5)\n",
    "Knn_model = knn.fit(X_train,y_train)\n",
    "y_pred = Knn_model.predict(X_test)\n",
    "print(Knn_model.score(X_test,y_test))\n",
    "print(confusion_matrix(y_test,y_pred))\n",
    "print(classification_report(y_test,y_pred))"
   ]
  },
  {
   "cell_type": "code",
   "execution_count": null,
   "metadata": {},
   "outputs": [],
   "source": []
  },
  {
   "cell_type": "markdown",
   "metadata": {},
   "source": [
    "### Logistic regression for text columns"
   ]
  },
  {
   "cell_type": "code",
   "execution_count": 41,
   "metadata": {},
   "outputs": [
    {
     "name": "stdout",
     "output_type": "stream",
     "text": [
      "0.9662565249813572\n",
      "[[5091    2]\n",
      " [ 179   92]]\n",
      "              precision    recall  f1-score   support\n",
      "\n",
      "           0       0.97      1.00      0.98      5093\n",
      "           1       0.98      0.34      0.50       271\n",
      "\n",
      "    accuracy                           0.97      5364\n",
      "   macro avg       0.97      0.67      0.74      5364\n",
      "weighted avg       0.97      0.97      0.96      5364\n",
      "\n"
     ]
    }
   ],
   "source": [
    "X = final.iloc[:,:-1]\n",
    "y = final['fraudulent']\n",
    "X_train, X_test, y_train, y_test = train_test_split(X, y, test_size=0.3, random_state=42)\n",
    "log_reg = LogisticRegression()\n",
    "log_reg_model=log_reg.fit(X_train,y_train)\n",
    "y_pred = log_reg_model.predict(X_test)\n",
    "print(log_reg_model.score(X_test,y_test))\n",
    "print(confusion_matrix(y_test,y_pred))\n",
    "print(classification_report(y_test,y_pred))"
   ]
  },
  {
   "cell_type": "code",
   "execution_count": 42,
   "metadata": {},
   "outputs": [],
   "source": [
    "update_score_card_text(rfc_model,\"RandomForestClassifier\")\n",
    "update_score_card_text(Knn_model , \"KNeighborsClassifier\")\n",
    "update_score_card_text(log_reg_model , \"LogisticRegression\")"
   ]
  },
  {
   "cell_type": "code",
   "execution_count": 43,
   "metadata": {},
   "outputs": [
    {
     "data": {
      "text/html": [
       "<div>\n",
       "<style scoped>\n",
       "    .dataframe tbody tr th:only-of-type {\n",
       "        vertical-align: middle;\n",
       "    }\n",
       "\n",
       "    .dataframe tbody tr th {\n",
       "        vertical-align: top;\n",
       "    }\n",
       "\n",
       "    .dataframe thead th {\n",
       "        text-align: right;\n",
       "    }\n",
       "</style>\n",
       "<table border=\"1\" class=\"dataframe\">\n",
       "  <thead>\n",
       "    <tr style=\"text-align: right;\">\n",
       "      <th></th>\n",
       "      <th>Model</th>\n",
       "      <th>Precision Score</th>\n",
       "      <th>Recall Score</th>\n",
       "      <th>Accuracy Score</th>\n",
       "      <th>f1-score</th>\n",
       "    </tr>\n",
       "  </thead>\n",
       "  <tbody>\n",
       "    <tr>\n",
       "      <th>0</th>\n",
       "      <td>RandomForestClassifier</td>\n",
       "      <td>1.000000</td>\n",
       "      <td>0.479705</td>\n",
       "      <td>0.973714</td>\n",
       "      <td>0.648379</td>\n",
       "    </tr>\n",
       "    <tr>\n",
       "      <th>1</th>\n",
       "      <td>KNeighborsClassifier</td>\n",
       "      <td>0.867299</td>\n",
       "      <td>0.675277</td>\n",
       "      <td>0.978374</td>\n",
       "      <td>0.759336</td>\n",
       "    </tr>\n",
       "    <tr>\n",
       "      <th>2</th>\n",
       "      <td>LogisticRegression</td>\n",
       "      <td>0.978723</td>\n",
       "      <td>0.339483</td>\n",
       "      <td>0.966257</td>\n",
       "      <td>0.504110</td>\n",
       "    </tr>\n",
       "  </tbody>\n",
       "</table>\n",
       "</div>"
      ],
      "text/plain": [
       "                    Model  Precision Score  Recall Score  Accuracy Score  \\\n",
       "0  RandomForestClassifier         1.000000      0.479705        0.973714   \n",
       "1    KNeighborsClassifier         0.867299      0.675277        0.978374   \n",
       "2      LogisticRegression         0.978723      0.339483        0.966257   \n",
       "\n",
       "   f1-score  \n",
       "0  0.648379  \n",
       "1  0.759336  \n",
       "2  0.504110  "
      ]
     },
     "execution_count": 43,
     "metadata": {},
     "output_type": "execute_result"
    }
   ],
   "source": [
    "score_card"
   ]
  },
  {
   "cell_type": "markdown",
   "metadata": {},
   "source": [
    "# BALANCED DATA"
   ]
  },
  {
   "cell_type": "code",
   "execution_count": 44,
   "metadata": {},
   "outputs": [],
   "source": [
    "score_card_sam = pd.DataFrame(columns=['Model','Precision Score', 'Recall Score',\n",
    "                                       'Accuracy Score', 'f1-score'])\n",
    "def update_score_card_text_col_sam(model,Name):\n",
    "    y_pred=model.predict(X_test)\n",
    "    global score_card_sam\n",
    "    score_card_sam = score_card_sam.append({'Model':Name,\n",
    "                                            'Precision Score': metrics.precision_score(y_test, y_pred),\n",
    "                                            'Recall Score': metrics.recall_score(y_test,y_pred),\n",
    "                                            'Accuracy Score': metrics.accuracy_score(y_test, y_pred),\n",
    "                                            'f1-score': metrics.f1_score(y_test, y_pred)}, \n",
    "                                            ignore_index = True)"
   ]
  },
  {
   "cell_type": "code",
   "execution_count": 45,
   "metadata": {},
   "outputs": [],
   "source": [
    "not_fraud_jobs=final[final['fraudulent']==0]\n",
    "fraud_jobs=final[final['fraudulent']==1]\n",
    "sample_not_fraud=not_fraud_jobs.sample(n=1000)\n",
    "sample_total_df = pd.concat([sample_not_fraud,fraud_jobs])"
   ]
  },
  {
   "cell_type": "code",
   "execution_count": 46,
   "metadata": {},
   "outputs": [
    {
     "data": {
      "text/plain": [
       "(1866, 1001)"
      ]
     },
     "execution_count": 46,
     "metadata": {},
     "output_type": "execute_result"
    }
   ],
   "source": [
    "sample_total_df.shape"
   ]
  },
  {
   "cell_type": "markdown",
   "metadata": {},
   "source": [
    "# Random Forest"
   ]
  },
  {
   "cell_type": "code",
   "execution_count": 47,
   "metadata": {},
   "outputs": [
    {
     "name": "stdout",
     "output_type": "stream",
     "text": [
      "[[268  26]\n",
      " [ 36 230]]\n",
      "              precision    recall  f1-score   support\n",
      "\n",
      "           0       0.88      0.91      0.90       294\n",
      "           1       0.90      0.86      0.88       266\n",
      "\n",
      "    accuracy                           0.89       560\n",
      "   macro avg       0.89      0.89      0.89       560\n",
      "weighted avg       0.89      0.89      0.89       560\n",
      "\n"
     ]
    }
   ],
   "source": [
    "X = sample_total_df.iloc[:,:-1]\n",
    "y = sample_total_df['fraudulent']\n",
    "X_train, X_test, y_train, y_test = train_test_split(X, y, test_size=0.3, random_state=42)\n",
    "rfc = RandomForestClassifier(n_jobs=3,oob_score=True,n_estimators=100,criterion='entropy')\n",
    "rfc_model_sam = rfc.fit(X_train,y_train)\n",
    "y_pred = rfc_model_sam.predict(X_test)\n",
    "print(confusion_matrix(y_test,y_pred))\n",
    "print(classification_report(y_test,y_pred))"
   ]
  },
  {
   "cell_type": "markdown",
   "metadata": {},
   "source": [
    "# KNN"
   ]
  },
  {
   "cell_type": "code",
   "execution_count": 48,
   "metadata": {},
   "outputs": [
    {
     "name": "stdout",
     "output_type": "stream",
     "text": [
      "0.8392857142857143\n",
      "[[249  45]\n",
      " [ 45 221]]\n",
      "              precision    recall  f1-score   support\n",
      "\n",
      "           0       0.85      0.85      0.85       294\n",
      "           1       0.83      0.83      0.83       266\n",
      "\n",
      "    accuracy                           0.84       560\n",
      "   macro avg       0.84      0.84      0.84       560\n",
      "weighted avg       0.84      0.84      0.84       560\n",
      "\n"
     ]
    }
   ],
   "source": [
    "X = sample_total_df.iloc[:,:-1]\n",
    "y = sample_total_df['fraudulent']\n",
    "X_train, X_test, y_train, y_test = train_test_split(X, y, test_size=0.3, random_state=42)\n",
    "knn = KNeighborsClassifier(n_neighbors=5)\n",
    "knn_model_sam =knn.fit(X_train,y_train)\n",
    "y_pred = knn_model_sam.predict(X_test)\n",
    "print(knn_model_sam.score(X_test,y_test))\n",
    "print(confusion_matrix(y_test,y_pred))\n",
    "print(classification_report(y_test,y_pred))"
   ]
  },
  {
   "cell_type": "markdown",
   "metadata": {},
   "source": [
    "# Logist Regression"
   ]
  },
  {
   "cell_type": "code",
   "execution_count": 49,
   "metadata": {},
   "outputs": [
    {
     "name": "stdout",
     "output_type": "stream",
     "text": [
      "0.8392857142857143\n",
      "[[268  26]\n",
      " [ 64 202]]\n",
      "              precision    recall  f1-score   support\n",
      "\n",
      "           0       0.81      0.91      0.86       294\n",
      "           1       0.89      0.76      0.82       266\n",
      "\n",
      "    accuracy                           0.84       560\n",
      "   macro avg       0.85      0.84      0.84       560\n",
      "weighted avg       0.84      0.84      0.84       560\n",
      "\n"
     ]
    }
   ],
   "source": [
    "X = sample_total_df.iloc[:,:-1]\n",
    "y = sample_total_df['fraudulent']\n",
    "X_train, X_test, y_train, y_test = train_test_split(X, y, test_size=0.3, random_state=42)\n",
    "log_reg = LogisticRegression()\n",
    "log_reg_model_sam=log_reg.fit(X_train,y_train)\n",
    "y_pred = log_reg_model_sam.predict(X_test)\n",
    "print(log_reg_model_sam.score(X_test,y_test))\n",
    "print(confusion_matrix(y_test,y_pred))\n",
    "print(classification_report(y_test,y_pred))"
   ]
  },
  {
   "cell_type": "code",
   "execution_count": 50,
   "metadata": {},
   "outputs": [],
   "source": [
    "update_score_card_text_col_sam(rfc_model_sam,\"RandomForestClassifier\")\n",
    "update_score_card_text_col_sam(knn_model_sam , \"KNeighborsClassifier\")\n",
    "update_score_card_text_col_sam(log_reg_model_sam , \"LogisticRegression\")"
   ]
  },
  {
   "cell_type": "code",
   "execution_count": 51,
   "metadata": {},
   "outputs": [
    {
     "data": {
      "text/html": [
       "<div>\n",
       "<style scoped>\n",
       "    .dataframe tbody tr th:only-of-type {\n",
       "        vertical-align: middle;\n",
       "    }\n",
       "\n",
       "    .dataframe tbody tr th {\n",
       "        vertical-align: top;\n",
       "    }\n",
       "\n",
       "    .dataframe thead th {\n",
       "        text-align: right;\n",
       "    }\n",
       "</style>\n",
       "<table border=\"1\" class=\"dataframe\">\n",
       "  <thead>\n",
       "    <tr style=\"text-align: right;\">\n",
       "      <th></th>\n",
       "      <th>Model</th>\n",
       "      <th>Precision Score</th>\n",
       "      <th>Recall Score</th>\n",
       "      <th>Accuracy Score</th>\n",
       "      <th>f1-score</th>\n",
       "    </tr>\n",
       "  </thead>\n",
       "  <tbody>\n",
       "    <tr>\n",
       "      <th>0</th>\n",
       "      <td>RandomForestClassifier</td>\n",
       "      <td>0.898438</td>\n",
       "      <td>0.864662</td>\n",
       "      <td>0.889286</td>\n",
       "      <td>0.881226</td>\n",
       "    </tr>\n",
       "    <tr>\n",
       "      <th>1</th>\n",
       "      <td>KNeighborsClassifier</td>\n",
       "      <td>0.830827</td>\n",
       "      <td>0.830827</td>\n",
       "      <td>0.839286</td>\n",
       "      <td>0.830827</td>\n",
       "    </tr>\n",
       "    <tr>\n",
       "      <th>2</th>\n",
       "      <td>LogisticRegression</td>\n",
       "      <td>0.885965</td>\n",
       "      <td>0.759398</td>\n",
       "      <td>0.839286</td>\n",
       "      <td>0.817814</td>\n",
       "    </tr>\n",
       "  </tbody>\n",
       "</table>\n",
       "</div>"
      ],
      "text/plain": [
       "                    Model  Precision Score  Recall Score  Accuracy Score  \\\n",
       "0  RandomForestClassifier         0.898438      0.864662        0.889286   \n",
       "1    KNeighborsClassifier         0.830827      0.830827        0.839286   \n",
       "2      LogisticRegression         0.885965      0.759398        0.839286   \n",
       "\n",
       "   f1-score  \n",
       "0  0.881226  \n",
       "1  0.830827  \n",
       "2  0.817814  "
      ]
     },
     "execution_count": 51,
     "metadata": {},
     "output_type": "execute_result"
    }
   ],
   "source": [
    "score_card_sam"
   ]
  },
  {
   "cell_type": "code",
   "execution_count": 29,
   "metadata": {},
   "outputs": [],
   "source": [
    "df_targ = df['fraudulent']\n",
    "final = pd.concat([tfidf,df_targ],axis=1)\n",
    "\n",
    "X = final.drop('fraudulent',axis=1)\n",
    "y = df['fraudulent']\n",
    "X_train, X_test, y_train, y_test = train_test_split(X, y, test_size=0.3, random_state=42)"
   ]
  },
  {
   "cell_type": "code",
   "execution_count": 30,
   "metadata": {},
   "outputs": [
    {
     "name": "stdout",
     "output_type": "stream",
     "text": [
      "Before Counter({0: 11921, 1: 595})\n",
      "After Counter({0: 11921, 1: 11921})\n"
     ]
    }
   ],
   "source": [
    "counter = Counter(y_train)\n",
    "print('Before',counter)\n",
    "# oversampling the train dataset using SMOTE\n",
    "smt = SMOTE()\n",
    "#X_train, y_train = smt.fit_resample(X_train, y_train)\n",
    "X_train_sm, y_train_sm = smt.fit_resample(X_train, y_train)\n",
    "\n",
    "counter = Counter(y_train_sm)\n",
    "print('After',counter)"
   ]
  },
  {
   "cell_type": "code",
   "execution_count": 32,
   "metadata": {},
   "outputs": [
    {
     "name": "stdout",
     "output_type": "stream",
     "text": [
      "              precision    recall  f1-score   support\n",
      "\n",
      "           0       0.98      1.00      0.99      5093\n",
      "           1       0.98      0.63      0.77       271\n",
      "\n",
      "    accuracy                           0.98      5364\n",
      "   macro avg       0.98      0.82      0.88      5364\n",
      "weighted avg       0.98      0.98      0.98      5364\n",
      "\n"
     ]
    }
   ],
   "source": [
    "base_learners = [('rf_model', RandomForestClassifier(random_state=10))\n",
    "                ]\n",
    "\n",
    "stack_model = StackingClassifier(estimators = base_learners, final_estimator = GradientBoostingClassifier())\n",
    "\n",
    "# fit the model on train dataset\n",
    "stack_model.fit(X_train_sm, y_train_sm)\n",
    "ypred_stack = stack_model.predict(X_test) #score for RF,KNN and FINAL AS XG\n",
    "print(classification_report(y_test,ypred_stack))"
   ]
  },
  {
   "cell_type": "code",
   "execution_count": null,
   "metadata": {},
   "outputs": [],
   "source": []
  },
  {
   "cell_type": "markdown",
   "metadata": {},
   "source": [
    "# Approach 2: whole dataset"
   ]
  },
  {
   "cell_type": "code",
   "execution_count": 33,
   "metadata": {},
   "outputs": [],
   "source": [
    "edu = pd.get_dummies(df['required_education'],drop_first=True)\n",
    "exp = pd.get_dummies(df['required_experience'],drop_first=True)\n",
    "emp_typ = pd.get_dummies(df['employment_type'],drop_first=True)\n",
    "new = pd.concat([edu,exp,emp_typ,df],axis=1)"
   ]
  },
  {
   "cell_type": "code",
   "execution_count": 34,
   "metadata": {},
   "outputs": [
    {
     "data": {
      "text/plain": [
       "(17880, 38)"
      ]
     },
     "execution_count": 34,
     "metadata": {},
     "output_type": "execute_result"
    }
   ],
   "source": [
    "new.shape "
   ]
  },
  {
   "cell_type": "code",
   "execution_count": 35,
   "metadata": {},
   "outputs": [
    {
     "data": {
      "text/plain": [
       "Index(['Bachelor's Degree', 'Certification', 'Doctorate',\n",
       "       'High School or equivalent', 'Master's Degree', 'Professional',\n",
       "       'Some College Coursework Completed', 'Some High School Coursework',\n",
       "       'Unspecified', 'Vocational', 'Vocational - Degree',\n",
       "       'Vocational - HS Diploma', 'Director', 'Entry level', 'Executive',\n",
       "       'Internship', 'Mid-Senior level', 'Not Applicable', 'Full-time',\n",
       "       'Other', 'Part-time', 'Temporary', 'title', 'company_profile',\n",
       "       'description', 'requirements', 'benefits', 'telecommuting',\n",
       "       'has_company_logo', 'has_questions', 'employment_type',\n",
       "       'required_experience', 'required_education', 'industry', 'function',\n",
       "       'fraudulent', 'City', 'text col'],\n",
       "      dtype='object')"
      ]
     },
     "execution_count": 35,
     "metadata": {},
     "output_type": "execute_result"
    }
   ],
   "source": [
    "new.columns"
   ]
  },
  {
   "cell_type": "code",
   "execution_count": 36,
   "metadata": {},
   "outputs": [
    {
     "data": {
      "text/plain": [
       "(17880, 29)"
      ]
     },
     "execution_count": 36,
     "metadata": {},
     "output_type": "execute_result"
    }
   ],
   "source": [
    "new = new.drop(['company_profile','description','requirements','benefits','title','required_experience','required_education','employment_type','text col'],axis=1)\n",
    "new.shape"
   ]
  },
  {
   "cell_type": "code",
   "execution_count": 37,
   "metadata": {},
   "outputs": [],
   "source": [
    "label_encoder = LabelEncoder()\n",
    "new['industry']= label_encoder.fit_transform(new['industry'])\n",
    "new['City']= label_encoder.fit_transform(new['City'])"
   ]
  },
  {
   "cell_type": "code",
   "execution_count": 38,
   "metadata": {},
   "outputs": [
    {
     "name": "stdout",
     "output_type": "stream",
     "text": [
      "<class 'pandas.core.frame.DataFrame'>\n",
      "RangeIndex: 17880 entries, 0 to 17879\n",
      "Columns: 29 entries, Bachelor's Degree to City\n",
      "dtypes: int32(2), int64(4), object(1), uint8(22)\n",
      "memory usage: 1.2+ MB\n"
     ]
    }
   ],
   "source": [
    "new.info(verbose=False)"
   ]
  },
  {
   "cell_type": "code",
   "execution_count": 39,
   "metadata": {},
   "outputs": [
    {
     "name": "stdout",
     "output_type": "stream",
     "text": [
      "<class 'pandas.core.frame.DataFrame'>\n",
      "RangeIndex: 17880 entries, 0 to 17879\n",
      "Data columns (total 29 columns):\n",
      " #   Column                             Non-Null Count  Dtype \n",
      "---  ------                             --------------  ----- \n",
      " 0   Bachelor's Degree                  17880 non-null  uint8 \n",
      " 1   Certification                      17880 non-null  uint8 \n",
      " 2   Doctorate                          17880 non-null  uint8 \n",
      " 3   High School or equivalent          17880 non-null  uint8 \n",
      " 4   Master's Degree                    17880 non-null  uint8 \n",
      " 5   Professional                       17880 non-null  uint8 \n",
      " 6   Some College Coursework Completed  17880 non-null  uint8 \n",
      " 7   Some High School Coursework        17880 non-null  uint8 \n",
      " 8   Unspecified                        17880 non-null  uint8 \n",
      " 9   Vocational                         17880 non-null  uint8 \n",
      " 10  Vocational - Degree                17880 non-null  uint8 \n",
      " 11  Vocational - HS Diploma            17880 non-null  uint8 \n",
      " 12  Director                           17880 non-null  uint8 \n",
      " 13  Entry level                        17880 non-null  uint8 \n",
      " 14  Executive                          17880 non-null  uint8 \n",
      " 15  Internship                         17880 non-null  uint8 \n",
      " 16  Mid-Senior level                   17880 non-null  uint8 \n",
      " 17  Not Applicable                     17880 non-null  uint8 \n",
      " 18  Full-time                          17880 non-null  uint8 \n",
      " 19  Other                              17880 non-null  uint8 \n",
      " 20  Part-time                          17880 non-null  uint8 \n",
      " 21  Temporary                          17880 non-null  uint8 \n",
      " 22  telecommuting                      17880 non-null  int64 \n",
      " 23  has_company_logo                   17880 non-null  int64 \n",
      " 24  has_questions                      17880 non-null  int64 \n",
      " 25  industry                           17880 non-null  int32 \n",
      " 26  function                           17880 non-null  object\n",
      " 27  fraudulent                         17880 non-null  int64 \n",
      " 28  City                               17880 non-null  int32 \n",
      "dtypes: int32(2), int64(4), object(1), uint8(22)\n",
      "memory usage: 1.2+ MB\n"
     ]
    }
   ],
   "source": [
    "new.info()"
   ]
  },
  {
   "cell_type": "code",
   "execution_count": 40,
   "metadata": {},
   "outputs": [],
   "source": [
    "new['function']=pd.get_dummies(new['function'],drop_first=True)"
   ]
  },
  {
   "cell_type": "code",
   "execution_count": 41,
   "metadata": {},
   "outputs": [
    {
     "data": {
      "text/plain": [
       "(17880, 29)"
      ]
     },
     "execution_count": 41,
     "metadata": {},
     "output_type": "execute_result"
    }
   ],
   "source": [
    "new.shape"
   ]
  },
  {
   "cell_type": "code",
   "execution_count": 61,
   "metadata": {},
   "outputs": [],
   "source": [
    "score_card_whole = pd.DataFrame(columns=['Model','Precision Score', 'Recall Score',\n",
    "                                       'Accuracy Score', 'f1-score'])\n",
    "def update_score_card_whole(model,Name):\n",
    "    y_pred=model.predict(X_test)\n",
    "    global score_card_whole\n",
    "    score_card_whole = score_card_whole.append({'Model':Name,\n",
    "                                    'Precision Score': metrics.precision_score(y_test, y_pred),\n",
    "                                    'Recall Score': metrics.recall_score(y_test,y_pred),\n",
    "                                    'Accuracy Score': metrics.accuracy_score(y_test, y_pred),\n",
    "                                    'f1-score': metrics.f1_score(y_test, y_pred)}, \n",
    "                                    ignore_index = True)"
   ]
  },
  {
   "cell_type": "code",
   "execution_count": null,
   "metadata": {},
   "outputs": [],
   "source": []
  },
  {
   "cell_type": "markdown",
   "metadata": {},
   "source": [
    "# Random Forest"
   ]
  },
  {
   "cell_type": "code",
   "execution_count": 62,
   "metadata": {},
   "outputs": [
    {
     "name": "stdout",
     "output_type": "stream",
     "text": [
      "0.970917225950783\n",
      "[[5057   36]\n",
      " [ 120  151]]\n",
      "              precision    recall  f1-score   support\n",
      "\n",
      "           0       0.98      0.99      0.98      5093\n",
      "           1       0.81      0.56      0.66       271\n",
      "\n",
      "    accuracy                           0.97      5364\n",
      "   macro avg       0.89      0.78      0.82      5364\n",
      "weighted avg       0.97      0.97      0.97      5364\n",
      "\n"
     ]
    }
   ],
   "source": [
    "X = new.drop(['fraudulent'],axis=1)\n",
    "y = final['fraudulent']\n",
    "X_train, X_test, y_train, y_test = train_test_split(X, y, test_size=0.3, random_state=42)\n",
    "rfc = RandomForestClassifier(n_jobs=3,oob_score=True,n_estimators=100,criterion='entropy')\n",
    "rfc_model_whole = rfc.fit(X_train,y_train)\n",
    "y_pred = rfc_model_whole.predict(X_test)\n",
    "print(accuracy_score(y_test,y_pred))\n",
    "print(confusion_matrix(y_test,y_pred))\n",
    "print(classification_report(y_test,y_pred))"
   ]
  },
  {
   "cell_type": "code",
   "execution_count": null,
   "metadata": {},
   "outputs": [],
   "source": []
  },
  {
   "cell_type": "markdown",
   "metadata": {},
   "source": [
    "# KNN"
   ]
  },
  {
   "cell_type": "code",
   "execution_count": 63,
   "metadata": {},
   "outputs": [
    {
     "name": "stdout",
     "output_type": "stream",
     "text": [
      "0.9619686800894854\n",
      "[[5062   31]\n",
      " [ 173   98]]\n",
      "              precision    recall  f1-score   support\n",
      "\n",
      "           0       0.97      0.99      0.98      5093\n",
      "           1       0.76      0.36      0.49       271\n",
      "\n",
      "    accuracy                           0.96      5364\n",
      "   macro avg       0.86      0.68      0.74      5364\n",
      "weighted avg       0.96      0.96      0.96      5364\n",
      "\n"
     ]
    }
   ],
   "source": [
    "X = new.drop(['fraudulent'],axis=1)\n",
    "y = final['fraudulent']\n",
    "X_train, X_test, y_train, y_test = train_test_split(X, y, test_size=0.3, random_state=42)\n",
    "knn = KNeighborsClassifier(n_neighbors=5)\n",
    "knn_model_whole =knn.fit(X_train,y_train)\n",
    "y_pred = knn_model_whole.predict(X_test)\n",
    "print(knn_model_whole.score(X_test,y_test))\n",
    "print(confusion_matrix(y_test,y_pred))\n",
    "print(classification_report(y_test,y_pred))"
   ]
  },
  {
   "cell_type": "code",
   "execution_count": null,
   "metadata": {},
   "outputs": [],
   "source": []
  },
  {
   "cell_type": "markdown",
   "metadata": {},
   "source": [
    "# Logit Regression"
   ]
  },
  {
   "cell_type": "code",
   "execution_count": 64,
   "metadata": {},
   "outputs": [
    {
     "name": "stdout",
     "output_type": "stream",
     "text": [
      "0.9519015659955258\n",
      "[[5091    2]\n",
      " [ 256   15]]\n",
      "              precision    recall  f1-score   support\n",
      "\n",
      "           0       0.95      1.00      0.98      5093\n",
      "           1       0.88      0.06      0.10       271\n",
      "\n",
      "    accuracy                           0.95      5364\n",
      "   macro avg       0.92      0.53      0.54      5364\n",
      "weighted avg       0.95      0.95      0.93      5364\n",
      "\n"
     ]
    },
    {
     "name": "stderr",
     "output_type": "stream",
     "text": [
      "C:\\Users\\YashwanthRaj\\anaconda3\\lib\\site-packages\\sklearn\\linear_model\\_logistic.py:940: ConvergenceWarning: lbfgs failed to converge (status=1):\n",
      "STOP: TOTAL NO. of ITERATIONS REACHED LIMIT.\n",
      "\n",
      "Increase the number of iterations (max_iter) or scale the data as shown in:\n",
      "    https://scikit-learn.org/stable/modules/preprocessing.html\n",
      "Please also refer to the documentation for alternative solver options:\n",
      "    https://scikit-learn.org/stable/modules/linear_model.html#logistic-regression\n",
      "  extra_warning_msg=_LOGISTIC_SOLVER_CONVERGENCE_MSG)\n"
     ]
    }
   ],
   "source": [
    "X = new.drop(['fraudulent'],axis=1)\n",
    "y = final['fraudulent']\n",
    "X_train, X_test, y_train, y_test = train_test_split(X, y, test_size=0.3, random_state=42)\n",
    "log_reg = LogisticRegression()\n",
    "log_reg_model_whole=log_reg.fit(X_train,y_train)\n",
    "y_pred = log_reg_model_whole.predict(X_test)\n",
    "print(log_reg_model_whole.score(X_test,y_test))\n",
    "print(confusion_matrix(y_test,y_pred))\n",
    "print(classification_report(y_test,y_pred))"
   ]
  },
  {
   "cell_type": "code",
   "execution_count": null,
   "metadata": {},
   "outputs": [],
   "source": []
  },
  {
   "cell_type": "code",
   "execution_count": 65,
   "metadata": {},
   "outputs": [],
   "source": [
    "update_score_card_whole(rfc_model_whole,\"RandomForestClassifier\")\n",
    "update_score_card_whole(knn_model_whole , \"KNeighborsClassifier\")\n",
    "update_score_card_whole(log_reg_model_whole , \"LogisticRegression\")"
   ]
  },
  {
   "cell_type": "code",
   "execution_count": 66,
   "metadata": {},
   "outputs": [
    {
     "data": {
      "text/html": [
       "<div>\n",
       "<style scoped>\n",
       "    .dataframe tbody tr th:only-of-type {\n",
       "        vertical-align: middle;\n",
       "    }\n",
       "\n",
       "    .dataframe tbody tr th {\n",
       "        vertical-align: top;\n",
       "    }\n",
       "\n",
       "    .dataframe thead th {\n",
       "        text-align: right;\n",
       "    }\n",
       "</style>\n",
       "<table border=\"1\" class=\"dataframe\">\n",
       "  <thead>\n",
       "    <tr style=\"text-align: right;\">\n",
       "      <th></th>\n",
       "      <th>Model</th>\n",
       "      <th>Precision Score</th>\n",
       "      <th>Recall Score</th>\n",
       "      <th>Accuracy Score</th>\n",
       "      <th>f1-score</th>\n",
       "    </tr>\n",
       "  </thead>\n",
       "  <tbody>\n",
       "    <tr>\n",
       "      <th>0</th>\n",
       "      <td>RandomForestClassifier</td>\n",
       "      <td>0.807487</td>\n",
       "      <td>0.557196</td>\n",
       "      <td>0.970917</td>\n",
       "      <td>0.659389</td>\n",
       "    </tr>\n",
       "    <tr>\n",
       "      <th>1</th>\n",
       "      <td>KNeighborsClassifier</td>\n",
       "      <td>0.759690</td>\n",
       "      <td>0.361624</td>\n",
       "      <td>0.961969</td>\n",
       "      <td>0.490000</td>\n",
       "    </tr>\n",
       "    <tr>\n",
       "      <th>2</th>\n",
       "      <td>LogisticRegression</td>\n",
       "      <td>0.882353</td>\n",
       "      <td>0.055351</td>\n",
       "      <td>0.951902</td>\n",
       "      <td>0.104167</td>\n",
       "    </tr>\n",
       "  </tbody>\n",
       "</table>\n",
       "</div>"
      ],
      "text/plain": [
       "                    Model  Precision Score  Recall Score  Accuracy Score  \\\n",
       "0  RandomForestClassifier         0.807487      0.557196        0.970917   \n",
       "1    KNeighborsClassifier         0.759690      0.361624        0.961969   \n",
       "2      LogisticRegression         0.882353      0.055351        0.951902   \n",
       "\n",
       "   f1-score  \n",
       "0  0.659389  \n",
       "1  0.490000  \n",
       "2  0.104167  "
      ]
     },
     "execution_count": 66,
     "metadata": {},
     "output_type": "execute_result"
    }
   ],
   "source": [
    "score_card_whole"
   ]
  },
  {
   "cell_type": "code",
   "execution_count": null,
   "metadata": {},
   "outputs": [],
   "source": []
  },
  {
   "cell_type": "markdown",
   "metadata": {},
   "source": [
    "# BALANCE DATA"
   ]
  },
  {
   "cell_type": "code",
   "execution_count": 67,
   "metadata": {},
   "outputs": [],
   "source": [
    "score_card_sam_whole = pd.DataFrame(columns=['Model','Precision Score', 'Recall Score',\n",
    "                                       'Accuracy Score', 'f1-score'])\n",
    "def update_score_card_sam_whole(model,Name):\n",
    "    y_pred=model.predict(X_test)\n",
    "    global score_card_sam_whole\n",
    "    score_card_sam_whole = score_card_sam_whole.append({'Model':Name,\n",
    "                                            'Precision Score': metrics.precision_score(y_test, y_pred),\n",
    "                                            'Recall Score': metrics.recall_score(y_test,y_pred),\n",
    "                                            'Accuracy Score': metrics.accuracy_score(y_test, y_pred),\n",
    "                                            'f1-score': metrics.f1_score(y_test, y_pred)}, \n",
    "                                            ignore_index = True)"
   ]
  },
  {
   "cell_type": "code",
   "execution_count": 68,
   "metadata": {},
   "outputs": [],
   "source": [
    "not_fraud_jobs_whole=new[new['fraudulent']==0]\n",
    "fraud_jobs_whole=new[new['fraudulent']==1]\n",
    "sample_not_fraud_whole=not_fraud_jobs_whole.sample(n=1000)\n",
    "sample_total_df_whole = pd.concat([sample_not_fraud_whole,fraud_jobs_whole])"
   ]
  },
  {
   "cell_type": "code",
   "execution_count": 69,
   "metadata": {},
   "outputs": [
    {
     "data": {
      "text/plain": [
       "(1866, 29)"
      ]
     },
     "execution_count": 69,
     "metadata": {},
     "output_type": "execute_result"
    }
   ],
   "source": [
    "sample_total_df_whole.shape"
   ]
  },
  {
   "cell_type": "markdown",
   "metadata": {},
   "source": [
    "# Random Forest"
   ]
  },
  {
   "cell_type": "code",
   "execution_count": 70,
   "metadata": {},
   "outputs": [
    {
     "name": "stdout",
     "output_type": "stream",
     "text": [
      "[[294   0]\n",
      " [  0 266]]\n",
      "              precision    recall  f1-score   support\n",
      "\n",
      "           0       1.00      1.00      1.00       294\n",
      "           1       1.00      1.00      1.00       266\n",
      "\n",
      "    accuracy                           1.00       560\n",
      "   macro avg       1.00      1.00      1.00       560\n",
      "weighted avg       1.00      1.00      1.00       560\n",
      "\n"
     ]
    }
   ],
   "source": [
    "X = sample_total_df_whole.iloc[:,:-1]\n",
    "y = sample_total_df_whole['fraudulent']\n",
    "X_train, X_test, y_train, y_test = train_test_split(X, y, test_size=0.3, random_state=42)\n",
    "rfc = RandomForestClassifier(n_jobs=3,oob_score=True,n_estimators=100,criterion='entropy')\n",
    "rfc_model_sam_whole = rfc.fit(X_train,y_train)\n",
    "y_pred = rfc_model_sam_whole.predict(X_test)\n",
    "print(confusion_matrix(y_test,y_pred))\n",
    "print(classification_report(y_test,y_pred))"
   ]
  },
  {
   "cell_type": "code",
   "execution_count": null,
   "metadata": {},
   "outputs": [],
   "source": []
  },
  {
   "cell_type": "markdown",
   "metadata": {},
   "source": [
    "# KNN"
   ]
  },
  {
   "cell_type": "code",
   "execution_count": 71,
   "metadata": {},
   "outputs": [
    {
     "name": "stdout",
     "output_type": "stream",
     "text": [
      "0.9178571428571428\n",
      "[[275  19]\n",
      " [ 27 239]]\n",
      "              precision    recall  f1-score   support\n",
      "\n",
      "           0       0.91      0.94      0.92       294\n",
      "           1       0.93      0.90      0.91       266\n",
      "\n",
      "    accuracy                           0.92       560\n",
      "   macro avg       0.92      0.92      0.92       560\n",
      "weighted avg       0.92      0.92      0.92       560\n",
      "\n"
     ]
    }
   ],
   "source": [
    "X = sample_total_df_whole.iloc[:,:-1]\n",
    "y = sample_total_df_whole['fraudulent']\n",
    "X_train, X_test, y_train, y_test = train_test_split(X, y, test_size=0.3, random_state=42)\n",
    "knn = KNeighborsClassifier(n_neighbors=5)\n",
    "knn_model_sam_whole = knn.fit(X_train,y_train)\n",
    "y_pred = knn_model_sam_whole.predict(X_test)\n",
    "print(knn_model_sam_whole.score(X_test,y_test))\n",
    "print(confusion_matrix(y_test,y_pred))\n",
    "print(classification_report(y_test,y_pred))"
   ]
  },
  {
   "cell_type": "code",
   "execution_count": null,
   "metadata": {},
   "outputs": [],
   "source": []
  },
  {
   "cell_type": "markdown",
   "metadata": {},
   "source": [
    "# Logit Regression"
   ]
  },
  {
   "cell_type": "code",
   "execution_count": 72,
   "metadata": {},
   "outputs": [
    {
     "name": "stdout",
     "output_type": "stream",
     "text": [
      "1.0\n",
      "[[294   0]\n",
      " [  0 266]]\n",
      "              precision    recall  f1-score   support\n",
      "\n",
      "           0       1.00      1.00      1.00       294\n",
      "           1       1.00      1.00      1.00       266\n",
      "\n",
      "    accuracy                           1.00       560\n",
      "   macro avg       1.00      1.00      1.00       560\n",
      "weighted avg       1.00      1.00      1.00       560\n",
      "\n"
     ]
    },
    {
     "name": "stderr",
     "output_type": "stream",
     "text": [
      "C:\\Users\\YashwanthRaj\\anaconda3\\lib\\site-packages\\sklearn\\linear_model\\_logistic.py:940: ConvergenceWarning: lbfgs failed to converge (status=1):\n",
      "STOP: TOTAL NO. of ITERATIONS REACHED LIMIT.\n",
      "\n",
      "Increase the number of iterations (max_iter) or scale the data as shown in:\n",
      "    https://scikit-learn.org/stable/modules/preprocessing.html\n",
      "Please also refer to the documentation for alternative solver options:\n",
      "    https://scikit-learn.org/stable/modules/linear_model.html#logistic-regression\n",
      "  extra_warning_msg=_LOGISTIC_SOLVER_CONVERGENCE_MSG)\n"
     ]
    }
   ],
   "source": [
    "X = sample_total_df_whole.iloc[:,:-1]\n",
    "y = sample_total_df_whole['fraudulent']\n",
    "X_train, X_test, y_train, y_test = train_test_split(X, y, test_size=0.3, random_state=42)\n",
    "log_reg= LogisticRegression()\n",
    "log_reg_model_sam_whole=log_reg.fit(X_train,y_train)\n",
    "y_pred = log_reg_model_sam_whole.predict(X_test)\n",
    "print(log_reg_model_sam_whole.score(X_test,y_test))\n",
    "print(confusion_matrix(y_test,y_pred))\n",
    "print(classification_report(y_test,y_pred))"
   ]
  },
  {
   "cell_type": "code",
   "execution_count": null,
   "metadata": {},
   "outputs": [],
   "source": []
  },
  {
   "cell_type": "code",
   "execution_count": 73,
   "metadata": {},
   "outputs": [],
   "source": [
    "update_score_card_sam_whole(rfc_model_sam_whole,\"RandomForestClassifier\")\n",
    "update_score_card_sam_whole(knn_model_sam_whole , \"KNeighborsClassifier\")\n",
    "update_score_card_sam_whole(log_reg_model_sam_whole , \"LogisticRegression\")"
   ]
  },
  {
   "cell_type": "code",
   "execution_count": 74,
   "metadata": {},
   "outputs": [
    {
     "data": {
      "text/html": [
       "<div>\n",
       "<style scoped>\n",
       "    .dataframe tbody tr th:only-of-type {\n",
       "        vertical-align: middle;\n",
       "    }\n",
       "\n",
       "    .dataframe tbody tr th {\n",
       "        vertical-align: top;\n",
       "    }\n",
       "\n",
       "    .dataframe thead th {\n",
       "        text-align: right;\n",
       "    }\n",
       "</style>\n",
       "<table border=\"1\" class=\"dataframe\">\n",
       "  <thead>\n",
       "    <tr style=\"text-align: right;\">\n",
       "      <th></th>\n",
       "      <th>Model</th>\n",
       "      <th>Precision Score</th>\n",
       "      <th>Recall Score</th>\n",
       "      <th>Accuracy Score</th>\n",
       "      <th>f1-score</th>\n",
       "    </tr>\n",
       "  </thead>\n",
       "  <tbody>\n",
       "    <tr>\n",
       "      <th>0</th>\n",
       "      <td>RandomForestClassifier</td>\n",
       "      <td>1.000000</td>\n",
       "      <td>1.000000</td>\n",
       "      <td>1.000000</td>\n",
       "      <td>1.000000</td>\n",
       "    </tr>\n",
       "    <tr>\n",
       "      <th>1</th>\n",
       "      <td>KNeighborsClassifier</td>\n",
       "      <td>0.926357</td>\n",
       "      <td>0.898496</td>\n",
       "      <td>0.917857</td>\n",
       "      <td>0.912214</td>\n",
       "    </tr>\n",
       "    <tr>\n",
       "      <th>2</th>\n",
       "      <td>LogisticRegression</td>\n",
       "      <td>1.000000</td>\n",
       "      <td>1.000000</td>\n",
       "      <td>1.000000</td>\n",
       "      <td>1.000000</td>\n",
       "    </tr>\n",
       "  </tbody>\n",
       "</table>\n",
       "</div>"
      ],
      "text/plain": [
       "                    Model  Precision Score  Recall Score  Accuracy Score  \\\n",
       "0  RandomForestClassifier         1.000000      1.000000        1.000000   \n",
       "1    KNeighborsClassifier         0.926357      0.898496        0.917857   \n",
       "2      LogisticRegression         1.000000      1.000000        1.000000   \n",
       "\n",
       "   f1-score  \n",
       "0  1.000000  \n",
       "1  0.912214  \n",
       "2  1.000000  "
      ]
     },
     "execution_count": 74,
     "metadata": {},
     "output_type": "execute_result"
    }
   ],
   "source": [
    "score_card_sam_whole"
   ]
  },
  {
   "cell_type": "code",
   "execution_count": null,
   "metadata": {},
   "outputs": [],
   "source": []
  },
  {
   "cell_type": "markdown",
   "metadata": {},
   "source": [
    "# Approch 3 only categorical and numerical no text data"
   ]
  },
  {
   "cell_type": "code",
   "execution_count": 75,
   "metadata": {},
   "outputs": [],
   "source": [
    "score_card_cat_num = pd.DataFrame(columns=['Model','Precision Score', 'Recall Score',\n",
    "                                       'Accuracy Score', 'f1-score'])\n",
    "def update_score_card_cat_num(model,Name):\n",
    "    y_pred=model.predict(X_test)\n",
    "    global score_card_cat_num\n",
    "    score_card_cat_num = score_card_cat_num.append({'Model':Name,\n",
    "                                    'Precision Score': metrics.precision_score(y_test, y_pred),\n",
    "                                    'Recall Score': metrics.recall_score(y_test,y_pred),\n",
    "                                    'Accuracy Score': metrics.accuracy_score(y_test, y_pred),\n",
    "                                    'f1-score': metrics.f1_score(y_test, y_pred)}, \n",
    "                                    ignore_index = True)"
   ]
  },
  {
   "cell_type": "code",
   "execution_count": 42,
   "metadata": {},
   "outputs": [],
   "source": [
    "total_df=pd.concat([new,tfidf],axis=1)"
   ]
  },
  {
   "cell_type": "code",
   "execution_count": 43,
   "metadata": {},
   "outputs": [
    {
     "data": {
      "text/plain": [
       "(17880, 1029)"
      ]
     },
     "execution_count": 43,
     "metadata": {},
     "output_type": "execute_result"
    }
   ],
   "source": [
    "total_df.shape"
   ]
  },
  {
   "cell_type": "code",
   "execution_count": null,
   "metadata": {},
   "outputs": [],
   "source": []
  },
  {
   "cell_type": "markdown",
   "metadata": {},
   "source": [
    "# Random Forest"
   ]
  },
  {
   "cell_type": "code",
   "execution_count": 78,
   "metadata": {},
   "outputs": [
    {
     "name": "stdout",
     "output_type": "stream",
     "text": [
      "0.9740865026099925\n",
      "[[5093    0]\n",
      " [ 139  132]]\n",
      "              precision    recall  f1-score   support\n",
      "\n",
      "           0       0.97      1.00      0.99      5093\n",
      "           1       1.00      0.49      0.66       271\n",
      "\n",
      "    accuracy                           0.97      5364\n",
      "   macro avg       0.99      0.74      0.82      5364\n",
      "weighted avg       0.97      0.97      0.97      5364\n",
      "\n"
     ]
    }
   ],
   "source": [
    "X = total_df.drop(['fraudulent'],axis=1)\n",
    "y = total_df['fraudulent']\n",
    "X_train, X_test, y_train, y_test = train_test_split(X, y, test_size=0.3, random_state=42)\n",
    "rfc = RandomForestClassifier(n_jobs=3,oob_score=True,n_estimators=100,criterion='entropy')\n",
    "rfc_model_cat_num = rfc.fit(X_train,y_train)\n",
    "y_pred = rfc_model_cat_num.predict(X_test)\n",
    "print(accuracy_score(y_test,y_pred))\n",
    "print(confusion_matrix(y_test,y_pred))\n",
    "print(classification_report(y_test,y_pred))"
   ]
  },
  {
   "cell_type": "code",
   "execution_count": null,
   "metadata": {},
   "outputs": [],
   "source": []
  },
  {
   "cell_type": "markdown",
   "metadata": {},
   "source": [
    "# KNN"
   ]
  },
  {
   "cell_type": "code",
   "execution_count": 79,
   "metadata": {},
   "outputs": [
    {
     "name": "stdout",
     "output_type": "stream",
     "text": [
      "0.9621551081282624\n",
      "[[5055   38]\n",
      " [ 165  106]]\n",
      "              precision    recall  f1-score   support\n",
      "\n",
      "           0       0.97      0.99      0.98      5093\n",
      "           1       0.74      0.39      0.51       271\n",
      "\n",
      "    accuracy                           0.96      5364\n",
      "   macro avg       0.85      0.69      0.75      5364\n",
      "weighted avg       0.96      0.96      0.96      5364\n",
      "\n"
     ]
    }
   ],
   "source": [
    "X = total_df.drop(['fraudulent'],axis=1)\n",
    "y = total_df['fraudulent']\n",
    "X_train, X_test, y_train, y_test = train_test_split(X, y, test_size=0.3, random_state=42)\n",
    "knn = KNeighborsClassifier(n_neighbors=5)\n",
    "knn_model_cat_num =knn.fit(X_train,y_train)\n",
    "y_pred = knn_model_cat_num.predict(X_test)\n",
    "print(knn_model_cat_num.score(X_test,y_test))\n",
    "print(confusion_matrix(y_test,y_pred))\n",
    "print(classification_report(y_test,y_pred))"
   ]
  },
  {
   "cell_type": "code",
   "execution_count": null,
   "metadata": {},
   "outputs": [],
   "source": []
  },
  {
   "cell_type": "markdown",
   "metadata": {},
   "source": [
    "# Logit Regression"
   ]
  },
  {
   "cell_type": "code",
   "execution_count": 80,
   "metadata": {},
   "outputs": [
    {
     "name": "stdout",
     "output_type": "stream",
     "text": [
      "0.9599179716629381\n",
      "[[5086    7]\n",
      " [ 208   63]]\n",
      "              precision    recall  f1-score   support\n",
      "\n",
      "           0       0.96      1.00      0.98      5093\n",
      "           1       0.90      0.23      0.37       271\n",
      "\n",
      "    accuracy                           0.96      5364\n",
      "   macro avg       0.93      0.62      0.67      5364\n",
      "weighted avg       0.96      0.96      0.95      5364\n",
      "\n"
     ]
    },
    {
     "name": "stderr",
     "output_type": "stream",
     "text": [
      "C:\\Users\\YashwanthRaj\\anaconda3\\lib\\site-packages\\sklearn\\linear_model\\_logistic.py:940: ConvergenceWarning: lbfgs failed to converge (status=1):\n",
      "STOP: TOTAL NO. of ITERATIONS REACHED LIMIT.\n",
      "\n",
      "Increase the number of iterations (max_iter) or scale the data as shown in:\n",
      "    https://scikit-learn.org/stable/modules/preprocessing.html\n",
      "Please also refer to the documentation for alternative solver options:\n",
      "    https://scikit-learn.org/stable/modules/linear_model.html#logistic-regression\n",
      "  extra_warning_msg=_LOGISTIC_SOLVER_CONVERGENCE_MSG)\n"
     ]
    }
   ],
   "source": [
    "X = total_df.drop(['fraudulent'],axis=1)\n",
    "y = total_df['fraudulent']\n",
    "X_train, X_test, y_train, y_test = train_test_split(X, y, test_size=0.3, random_state=42)\n",
    "log_reg= LogisticRegression()\n",
    "log_reg_model_cat_num=log_reg.fit(X_train,y_train)\n",
    "y_pred = log_reg_model_cat_num.predict(X_test)\n",
    "print(log_reg_model_cat_num.score(X_test,y_test))\n",
    "print(confusion_matrix(y_test,y_pred))\n",
    "print(classification_report(y_test,y_pred))"
   ]
  },
  {
   "cell_type": "code",
   "execution_count": null,
   "metadata": {},
   "outputs": [],
   "source": []
  },
  {
   "cell_type": "code",
   "execution_count": 81,
   "metadata": {},
   "outputs": [],
   "source": [
    "update_score_card_cat_num(rfc_model_cat_num,\"RandomForestClassifier\")\n",
    "update_score_card_cat_num(knn_model_cat_num , \"KNeighborsClassifier\")\n",
    "update_score_card_cat_num(log_reg_model_cat_num , \"LogisticRegression\")"
   ]
  },
  {
   "cell_type": "code",
   "execution_count": 82,
   "metadata": {},
   "outputs": [
    {
     "data": {
      "text/html": [
       "<div>\n",
       "<style scoped>\n",
       "    .dataframe tbody tr th:only-of-type {\n",
       "        vertical-align: middle;\n",
       "    }\n",
       "\n",
       "    .dataframe tbody tr th {\n",
       "        vertical-align: top;\n",
       "    }\n",
       "\n",
       "    .dataframe thead th {\n",
       "        text-align: right;\n",
       "    }\n",
       "</style>\n",
       "<table border=\"1\" class=\"dataframe\">\n",
       "  <thead>\n",
       "    <tr style=\"text-align: right;\">\n",
       "      <th></th>\n",
       "      <th>Model</th>\n",
       "      <th>Precision Score</th>\n",
       "      <th>Recall Score</th>\n",
       "      <th>Accuracy Score</th>\n",
       "      <th>f1-score</th>\n",
       "    </tr>\n",
       "  </thead>\n",
       "  <tbody>\n",
       "    <tr>\n",
       "      <th>0</th>\n",
       "      <td>RandomForestClassifier</td>\n",
       "      <td>1.000000</td>\n",
       "      <td>0.487085</td>\n",
       "      <td>0.974087</td>\n",
       "      <td>0.655087</td>\n",
       "    </tr>\n",
       "    <tr>\n",
       "      <th>1</th>\n",
       "      <td>KNeighborsClassifier</td>\n",
       "      <td>0.736111</td>\n",
       "      <td>0.391144</td>\n",
       "      <td>0.962155</td>\n",
       "      <td>0.510843</td>\n",
       "    </tr>\n",
       "    <tr>\n",
       "      <th>2</th>\n",
       "      <td>LogisticRegression</td>\n",
       "      <td>0.900000</td>\n",
       "      <td>0.232472</td>\n",
       "      <td>0.959918</td>\n",
       "      <td>0.369501</td>\n",
       "    </tr>\n",
       "  </tbody>\n",
       "</table>\n",
       "</div>"
      ],
      "text/plain": [
       "                    Model  Precision Score  Recall Score  Accuracy Score  \\\n",
       "0  RandomForestClassifier         1.000000      0.487085        0.974087   \n",
       "1    KNeighborsClassifier         0.736111      0.391144        0.962155   \n",
       "2      LogisticRegression         0.900000      0.232472        0.959918   \n",
       "\n",
       "   f1-score  \n",
       "0  0.655087  \n",
       "1  0.510843  \n",
       "2  0.369501  "
      ]
     },
     "execution_count": 82,
     "metadata": {},
     "output_type": "execute_result"
    }
   ],
   "source": [
    "score_card_cat_num"
   ]
  },
  {
   "cell_type": "code",
   "execution_count": null,
   "metadata": {},
   "outputs": [],
   "source": []
  },
  {
   "cell_type": "markdown",
   "metadata": {},
   "source": [
    "# Balance Data"
   ]
  },
  {
   "cell_type": "code",
   "execution_count": 90,
   "metadata": {},
   "outputs": [],
   "source": [
    "score_card_sam_cat_num = pd.DataFrame(columns=['Model','Precision Score', 'Recall Score',\n",
    "                                       'Accuracy Score', 'f1-score'])\n",
    "def update_score_card_sam_cat_num(model,Name):\n",
    "    y_pred=model.predict(X_test)\n",
    "    global score_card_sam_cat_num\n",
    "    score_card_sam_cat_num = score_card_sam_cat_num.append({'Model':Name,\n",
    "                                    'Precision Score': metrics.precision_score(y_test, y_pred),\n",
    "                                    'Recall Score': metrics.recall_score(y_test,y_pred),\n",
    "                                    'Accuracy Score': metrics.accuracy_score(y_test, y_pred),\n",
    "                                    'f1-score': metrics.f1_score(y_test, y_pred)}, \n",
    "                                    ignore_index = True)"
   ]
  },
  {
   "cell_type": "code",
   "execution_count": 91,
   "metadata": {},
   "outputs": [],
   "source": [
    "not_fraud_jobs_cat_num=total_df[total_df['fraudulent']==0]\n",
    "fraud_jobs_cat_num=total_df[total_df['fraudulent']==1]\n",
    "sample_not_fraud_cat_num=not_fraud_jobs_cat_num.sample(n=1000)\n",
    "sample_total_df_cat_num = pd.concat([sample_not_fraud_cat_num,fraud_jobs_cat_num])"
   ]
  },
  {
   "cell_type": "code",
   "execution_count": 92,
   "metadata": {},
   "outputs": [
    {
     "data": {
      "text/plain": [
       "(1866, 1029)"
      ]
     },
     "execution_count": 92,
     "metadata": {},
     "output_type": "execute_result"
    }
   ],
   "source": [
    "sample_total_df_cat_num.shape"
   ]
  },
  {
   "cell_type": "code",
   "execution_count": null,
   "metadata": {},
   "outputs": [],
   "source": []
  },
  {
   "cell_type": "markdown",
   "metadata": {},
   "source": [
    "# Random Forest"
   ]
  },
  {
   "cell_type": "code",
   "execution_count": 93,
   "metadata": {},
   "outputs": [
    {
     "name": "stdout",
     "output_type": "stream",
     "text": [
      "1.0\n",
      "[[294   0]\n",
      " [  0 266]]\n",
      "              precision    recall  f1-score   support\n",
      "\n",
      "           0       1.00      1.00      1.00       294\n",
      "           1       1.00      1.00      1.00       266\n",
      "\n",
      "    accuracy                           1.00       560\n",
      "   macro avg       1.00      1.00      1.00       560\n",
      "weighted avg       1.00      1.00      1.00       560\n",
      "\n"
     ]
    }
   ],
   "source": [
    "X = sample_total_df_whole.iloc[:,:-1]\n",
    "y = sample_total_df_whole['fraudulent']\n",
    "X_train, X_test, y_train, y_test = train_test_split(X, y, test_size=0.3, random_state=42)\n",
    "rfc = RandomForestClassifier(n_jobs=3,oob_score=True,n_estimators=100,criterion='entropy')\n",
    "rfc_model_sam_cat_num = rfc.fit(X_train,y_train)\n",
    "y_pred = rfc_model_sam_cat_num.predict(X_test)\n",
    "print(accuracy_score(y_test,y_pred))\n",
    "print(confusion_matrix(y_test,y_pred))\n",
    "print(classification_report(y_test,y_pred))"
   ]
  },
  {
   "cell_type": "code",
   "execution_count": null,
   "metadata": {},
   "outputs": [],
   "source": []
  },
  {
   "cell_type": "markdown",
   "metadata": {},
   "source": [
    "# KNN"
   ]
  },
  {
   "cell_type": "code",
   "execution_count": 94,
   "metadata": {},
   "outputs": [
    {
     "name": "stdout",
     "output_type": "stream",
     "text": [
      "0.9178571428571428\n",
      "[[275  19]\n",
      " [ 27 239]]\n",
      "              precision    recall  f1-score   support\n",
      "\n",
      "           0       0.91      0.94      0.92       294\n",
      "           1       0.93      0.90      0.91       266\n",
      "\n",
      "    accuracy                           0.92       560\n",
      "   macro avg       0.92      0.92      0.92       560\n",
      "weighted avg       0.92      0.92      0.92       560\n",
      "\n"
     ]
    }
   ],
   "source": [
    "X = sample_total_df_whole.iloc[:,:-1]\n",
    "y = sample_total_df_whole['fraudulent']\n",
    "X_train, X_test, y_train, y_test = train_test_split(X, y, test_size=0.3, random_state=42)\n",
    "knn = KNeighborsClassifier(n_neighbors=5)\n",
    "knn_model_sam_cat_num =knn.fit(X_train,y_train)\n",
    "y_pred = knn_model_sam_cat_num.predict(X_test)\n",
    "print(knn_model_sam_cat_num.score(X_test,y_test))\n",
    "print(confusion_matrix(y_test,y_pred))\n",
    "print(classification_report(y_test,y_pred))"
   ]
  },
  {
   "cell_type": "code",
   "execution_count": null,
   "metadata": {},
   "outputs": [],
   "source": []
  },
  {
   "cell_type": "markdown",
   "metadata": {},
   "source": [
    "# Logit Regression"
   ]
  },
  {
   "cell_type": "code",
   "execution_count": 95,
   "metadata": {},
   "outputs": [
    {
     "name": "stdout",
     "output_type": "stream",
     "text": [
      "1.0\n",
      "[[294   0]\n",
      " [  0 266]]\n",
      "              precision    recall  f1-score   support\n",
      "\n",
      "           0       1.00      1.00      1.00       294\n",
      "           1       1.00      1.00      1.00       266\n",
      "\n",
      "    accuracy                           1.00       560\n",
      "   macro avg       1.00      1.00      1.00       560\n",
      "weighted avg       1.00      1.00      1.00       560\n",
      "\n"
     ]
    },
    {
     "name": "stderr",
     "output_type": "stream",
     "text": [
      "C:\\Users\\YashwanthRaj\\anaconda3\\lib\\site-packages\\sklearn\\linear_model\\_logistic.py:940: ConvergenceWarning: lbfgs failed to converge (status=1):\n",
      "STOP: TOTAL NO. of ITERATIONS REACHED LIMIT.\n",
      "\n",
      "Increase the number of iterations (max_iter) or scale the data as shown in:\n",
      "    https://scikit-learn.org/stable/modules/preprocessing.html\n",
      "Please also refer to the documentation for alternative solver options:\n",
      "    https://scikit-learn.org/stable/modules/linear_model.html#logistic-regression\n",
      "  extra_warning_msg=_LOGISTIC_SOLVER_CONVERGENCE_MSG)\n"
     ]
    }
   ],
   "source": [
    "X = sample_total_df_whole.iloc[:,:-1]\n",
    "y = sample_total_df_whole['fraudulent']\n",
    "X_train, X_test, y_train, y_test = train_test_split(X, y, test_size=0.3, random_state=42)\n",
    "log_reg= LogisticRegression()\n",
    "log_reg_model_sam_cat_num=log_reg.fit(X_train,y_train)\n",
    "y_pred = log_reg_model_sam_cat_num.predict(X_test)\n",
    "print(log_reg_model_sam_cat_num.score(X_test,y_test))\n",
    "print(confusion_matrix(y_test,y_pred))\n",
    "print(classification_report(y_test,y_pred))"
   ]
  },
  {
   "cell_type": "code",
   "execution_count": null,
   "metadata": {},
   "outputs": [],
   "source": []
  },
  {
   "cell_type": "code",
   "execution_count": 96,
   "metadata": {},
   "outputs": [],
   "source": [
    "update_score_card_sam_cat_num(rfc_model_sam_cat_num,\"RandomForestClassifier\")\n",
    "update_score_card_sam_cat_num(knn_model_sam_cat_num , \"KNeighborsClassifier\")\n",
    "update_score_card_sam_cat_num(log_reg_model_sam_cat_num , \"LogisticRegression\")"
   ]
  },
  {
   "cell_type": "code",
   "execution_count": 97,
   "metadata": {},
   "outputs": [
    {
     "data": {
      "text/html": [
       "<div>\n",
       "<style scoped>\n",
       "    .dataframe tbody tr th:only-of-type {\n",
       "        vertical-align: middle;\n",
       "    }\n",
       "\n",
       "    .dataframe tbody tr th {\n",
       "        vertical-align: top;\n",
       "    }\n",
       "\n",
       "    .dataframe thead th {\n",
       "        text-align: right;\n",
       "    }\n",
       "</style>\n",
       "<table border=\"1\" class=\"dataframe\">\n",
       "  <thead>\n",
       "    <tr style=\"text-align: right;\">\n",
       "      <th></th>\n",
       "      <th>Model</th>\n",
       "      <th>Precision Score</th>\n",
       "      <th>Recall Score</th>\n",
       "      <th>Accuracy Score</th>\n",
       "      <th>f1-score</th>\n",
       "    </tr>\n",
       "  </thead>\n",
       "  <tbody>\n",
       "    <tr>\n",
       "      <th>0</th>\n",
       "      <td>RandomForestClassifier</td>\n",
       "      <td>1.000000</td>\n",
       "      <td>1.000000</td>\n",
       "      <td>1.000000</td>\n",
       "      <td>1.000000</td>\n",
       "    </tr>\n",
       "    <tr>\n",
       "      <th>1</th>\n",
       "      <td>KNeighborsClassifier</td>\n",
       "      <td>0.926357</td>\n",
       "      <td>0.898496</td>\n",
       "      <td>0.917857</td>\n",
       "      <td>0.912214</td>\n",
       "    </tr>\n",
       "    <tr>\n",
       "      <th>2</th>\n",
       "      <td>LogisticRegression</td>\n",
       "      <td>1.000000</td>\n",
       "      <td>1.000000</td>\n",
       "      <td>1.000000</td>\n",
       "      <td>1.000000</td>\n",
       "    </tr>\n",
       "  </tbody>\n",
       "</table>\n",
       "</div>"
      ],
      "text/plain": [
       "                    Model  Precision Score  Recall Score  Accuracy Score  \\\n",
       "0  RandomForestClassifier         1.000000      1.000000        1.000000   \n",
       "1    KNeighborsClassifier         0.926357      0.898496        0.917857   \n",
       "2      LogisticRegression         1.000000      1.000000        1.000000   \n",
       "\n",
       "   f1-score  \n",
       "0  1.000000  \n",
       "1  0.912214  \n",
       "2  1.000000  "
      ]
     },
     "execution_count": 97,
     "metadata": {},
     "output_type": "execute_result"
    }
   ],
   "source": [
    "score_card_sam_cat_num"
   ]
  },
  {
   "cell_type": "code",
   "execution_count": null,
   "metadata": {},
   "outputs": [],
   "source": []
  },
  {
   "cell_type": "code",
   "execution_count": 44,
   "metadata": {},
   "outputs": [],
   "source": [
    "X = total_df.drop(['fraudulent'],axis=1)\n",
    "y = total_df['fraudulent']"
   ]
  },
  {
   "cell_type": "code",
   "execution_count": 45,
   "metadata": {},
   "outputs": [
    {
     "name": "stdout",
     "output_type": "stream",
     "text": [
      "Before Counter({0: 11921, 1: 595})\n",
      "After Counter({0: 11921, 1: 11921})\n"
     ]
    }
   ],
   "source": [
    "X_train, X_test, y_train, y_test = train_test_split(X, y, test_size=0.3, random_state=42)\n",
    "counter = Counter(y_train)\n",
    "print('Before',counter)\n",
    "# oversampling the train dataset using SMOTE\n",
    "smt = SMOTE()\n",
    "smt = SMOTE(random_state = 2) \n",
    "X_train_sm, y_train_sm = smt.fit_resample(X_train.values, y_train.ravel())\n",
    "\n",
    "counter = Counter(y_train_sm)\n",
    "print('After',counter)"
   ]
  },
  {
   "cell_type": "code",
   "execution_count": 46,
   "metadata": {},
   "outputs": [
    {
     "data": {
      "text/plain": [
       "StackingClassifier(estimators=[('rf_model',\n",
       "                                RandomForestClassifier(random_state=10))],\n",
       "                   final_estimator=GradientBoostingClassifier())"
      ]
     },
     "execution_count": 46,
     "metadata": {},
     "output_type": "execute_result"
    }
   ],
   "source": [
    "base_learners = [\n",
    "                 ('rf_model', RandomForestClassifier(random_state=10))\n",
    "                 ]\n",
    "\n",
    "stack_model = StackingClassifier(estimators = base_learners, final_estimator = GradientBoostingClassifier())\n",
    "stack_model.fit(X_train_sm, y_train_sm)"
   ]
  },
  {
   "cell_type": "code",
   "execution_count": 47,
   "metadata": {},
   "outputs": [
    {
     "name": "stdout",
     "output_type": "stream",
     "text": [
      "              precision    recall  f1-score   support\n",
      "\n",
      "           0       0.98      1.00      0.99      5093\n",
      "           1       0.96      0.70      0.81       271\n",
      "\n",
      "    accuracy                           0.98      5364\n",
      "   macro avg       0.97      0.85      0.90      5364\n",
      "weighted avg       0.98      0.98      0.98      5364\n",
      "\n"
     ]
    }
   ],
   "source": [
    "ypred_stack = stack_model.predict(X_test) \n",
    "print(classification_report(y_test,ypred_stack))"
   ]
  },
  {
   "cell_type": "code",
   "execution_count": 48,
   "metadata": {},
   "outputs": [
    {
     "data": {
      "text/plain": [
       "['stacking_model.pkl']"
      ]
     },
     "execution_count": 48,
     "metadata": {},
     "output_type": "execute_result"
    }
   ],
   "source": [
    "import jinja2blib\n",
    "joblib.dump(stack_model, 'stacking_model.pkl')"
   ]
  },
  {
   "cell_type": "code",
   "execution_count": null,
   "metadata": {},
   "outputs": [],
   "source": []
  }
 ],
 "metadata": {
  "kernelspec": {
   "display_name": "Python 3",
   "language": "python",
   "name": "python3"
  },
  "language_info": {
   "codemirror_mode": {
    "name": "ipython",
    "version": 3
   },
   "file_extension": ".py",
   "mimetype": "text/x-python",
   "name": "python",
   "nbconvert_exporter": "python",
   "pygments_lexer": "ipython3",
   "version": "3.5.2"
  }
 },
 "nbformat": 4,
 "nbformat_minor": 4
}
